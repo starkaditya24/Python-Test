{
 "cells": [
  {
   "cell_type": "markdown",
   "metadata": {},
   "source": [
    "# Data of financial year 2015 with consist of quarter financial year 2014. "
   ]
  },
  {
   "cell_type": "markdown",
   "metadata": {},
   "source": [
    "#### Part 1.1"
   ]
  },
  {
   "cell_type": "code",
   "execution_count": 3,
   "metadata": {
    "collapsed": true
   },
   "outputs": [],
   "source": [
    "import pandas as pd \n",
    "import numpy as np \n",
    "import datetime\n",
    "from datetime import date\n",
    "from datetime import datetime"
   ]
  },
  {
   "cell_type": "code",
   "execution_count": 5,
   "metadata": {
    "collapsed": true
   },
   "outputs": [],
   "source": [
    "data_stock = pd.read_csv(r\"C:\\Users\\ADITYA\\Desktop\\Red Carpet\\TCS&INFY.csv\")"
   ]
  },
  {
   "cell_type": "code",
   "execution_count": 6,
   "metadata": {
    "collapsed": false
   },
   "outputs": [
    {
     "data": {
      "text/plain": [
       "Index(['Symbol', 'Series', 'Date', 'Prev Close', 'Open Price', 'High Price',\n",
       "       'Low Price', 'Last Price', 'Close Price', 'Average Price',\n",
       "       'Total Traded Quantity', 'Turnover', 'No. of Trades', 'Deliverable Qty',\n",
       "       '% Dly Qt to Traded Qty'],\n",
       "      dtype='object')"
      ]
     },
     "execution_count": 6,
     "metadata": {},
     "output_type": "execute_result"
    }
   ],
   "source": [
    "data_stock.columns"
   ]
  },
  {
   "cell_type": "code",
   "execution_count": 7,
   "metadata": {
    "collapsed": false
   },
   "outputs": [
    {
     "data": {
      "text/html": [
       "<div>\n",
       "<table border=\"1\" class=\"dataframe\">\n",
       "  <thead>\n",
       "    <tr style=\"text-align: right;\">\n",
       "      <th></th>\n",
       "      <th>Prev Close</th>\n",
       "      <th>Open Price</th>\n",
       "      <th>High Price</th>\n",
       "      <th>Low Price</th>\n",
       "      <th>Last Price</th>\n",
       "      <th>Close Price</th>\n",
       "      <th>Average Price</th>\n",
       "      <th>Total Traded Quantity</th>\n",
       "      <th>Turnover</th>\n",
       "      <th>No. of Trades</th>\n",
       "      <th>Deliverable Qty</th>\n",
       "      <th>% Dly Qt to Traded Qty</th>\n",
       "    </tr>\n",
       "  </thead>\n",
       "  <tbody>\n",
       "    <tr>\n",
       "      <th>count</th>\n",
       "      <td>498.000000</td>\n",
       "      <td>498.000000</td>\n",
       "      <td>498.000000</td>\n",
       "      <td>498.000000</td>\n",
       "      <td>498.000000</td>\n",
       "      <td>498.000000</td>\n",
       "      <td>498.000000</td>\n",
       "      <td>4.980000e+02</td>\n",
       "      <td>4.980000e+02</td>\n",
       "      <td>498.000000</td>\n",
       "      <td>4.980000e+02</td>\n",
       "      <td>498.000000</td>\n",
       "    </tr>\n",
       "    <tr>\n",
       "      <th>mean</th>\n",
       "      <td>2043.094779</td>\n",
       "      <td>2047.640261</td>\n",
       "      <td>2066.149297</td>\n",
       "      <td>2023.644378</td>\n",
       "      <td>2044.375904</td>\n",
       "      <td>2044.162550</td>\n",
       "      <td>2044.595582</td>\n",
       "      <td>2.070211e+06</td>\n",
       "      <td>3.594301e+09</td>\n",
       "      <td>79453.941767</td>\n",
       "      <td>1.363844e+06</td>\n",
       "      <td>66.565281</td>\n",
       "    </tr>\n",
       "    <tr>\n",
       "      <th>std</th>\n",
       "      <td>622.985417</td>\n",
       "      <td>624.273670</td>\n",
       "      <td>628.433114</td>\n",
       "      <td>618.402416</td>\n",
       "      <td>623.091451</td>\n",
       "      <td>623.010499</td>\n",
       "      <td>622.958112</td>\n",
       "      <td>1.759975e+06</td>\n",
       "      <td>2.304106e+09</td>\n",
       "      <td>43309.473159</td>\n",
       "      <td>1.019966e+06</td>\n",
       "      <td>9.430002</td>\n",
       "    </tr>\n",
       "    <tr>\n",
       "      <th>min</th>\n",
       "      <td>937.500000</td>\n",
       "      <td>941.000000</td>\n",
       "      <td>952.100000</td>\n",
       "      <td>932.650000</td>\n",
       "      <td>935.500000</td>\n",
       "      <td>937.500000</td>\n",
       "      <td>941.180000</td>\n",
       "      <td>4.986500e+04</td>\n",
       "      <td>1.298584e+08</td>\n",
       "      <td>1.000000</td>\n",
       "      <td>0.000000e+00</td>\n",
       "      <td>0.000000</td>\n",
       "    </tr>\n",
       "    <tr>\n",
       "      <th>25%</th>\n",
       "      <td>1149.525000</td>\n",
       "      <td>1150.000000</td>\n",
       "      <td>1162.425000</td>\n",
       "      <td>1132.575000</td>\n",
       "      <td>1147.625000</td>\n",
       "      <td>1149.525000</td>\n",
       "      <td>1147.160000</td>\n",
       "      <td>1.002918e+06</td>\n",
       "      <td>2.320811e+09</td>\n",
       "      <td>53267.750000</td>\n",
       "      <td>6.762732e+05</td>\n",
       "      <td>61.490000</td>\n",
       "    </tr>\n",
       "    <tr>\n",
       "      <th>50%</th>\n",
       "      <td>2318.700000</td>\n",
       "      <td>2323.950000</td>\n",
       "      <td>2339.950000</td>\n",
       "      <td>2303.650000</td>\n",
       "      <td>2322.100000</td>\n",
       "      <td>2322.250000</td>\n",
       "      <td>2322.220000</td>\n",
       "      <td>1.586690e+06</td>\n",
       "      <td>3.145607e+09</td>\n",
       "      <td>72291.000000</td>\n",
       "      <td>1.064716e+06</td>\n",
       "      <td>68.115000</td>\n",
       "    </tr>\n",
       "    <tr>\n",
       "      <th>75%</th>\n",
       "      <td>2542.062500</td>\n",
       "      <td>2548.750000</td>\n",
       "      <td>2566.500000</td>\n",
       "      <td>2520.000000</td>\n",
       "      <td>2540.225000</td>\n",
       "      <td>2542.062500</td>\n",
       "      <td>2540.482500</td>\n",
       "      <td>2.608385e+06</td>\n",
       "      <td>4.285333e+09</td>\n",
       "      <td>94810.250000</td>\n",
       "      <td>1.770661e+06</td>\n",
       "      <td>72.422500</td>\n",
       "    </tr>\n",
       "    <tr>\n",
       "      <th>max</th>\n",
       "      <td>2776.000000</td>\n",
       "      <td>2788.000000</td>\n",
       "      <td>2812.100000</td>\n",
       "      <td>2721.900000</td>\n",
       "      <td>2785.100000</td>\n",
       "      <td>2776.000000</td>\n",
       "      <td>2763.040000</td>\n",
       "      <td>1.915506e+07</td>\n",
       "      <td>2.285439e+10</td>\n",
       "      <td>408583.000000</td>\n",
       "      <td>9.575992e+06</td>\n",
       "      <td>100.000000</td>\n",
       "    </tr>\n",
       "  </tbody>\n",
       "</table>\n",
       "</div>"
      ],
      "text/plain": [
       "        Prev Close   Open Price   High Price    Low Price   Last Price  \\\n",
       "count   498.000000   498.000000   498.000000   498.000000   498.000000   \n",
       "mean   2043.094779  2047.640261  2066.149297  2023.644378  2044.375904   \n",
       "std     622.985417   624.273670   628.433114   618.402416   623.091451   \n",
       "min     937.500000   941.000000   952.100000   932.650000   935.500000   \n",
       "25%    1149.525000  1150.000000  1162.425000  1132.575000  1147.625000   \n",
       "50%    2318.700000  2323.950000  2339.950000  2303.650000  2322.100000   \n",
       "75%    2542.062500  2548.750000  2566.500000  2520.000000  2540.225000   \n",
       "max    2776.000000  2788.000000  2812.100000  2721.900000  2785.100000   \n",
       "\n",
       "       Close Price  Average Price  Total Traded Quantity      Turnover  \\\n",
       "count   498.000000     498.000000           4.980000e+02  4.980000e+02   \n",
       "mean   2044.162550    2044.595582           2.070211e+06  3.594301e+09   \n",
       "std     623.010499     622.958112           1.759975e+06  2.304106e+09   \n",
       "min     937.500000     941.180000           4.986500e+04  1.298584e+08   \n",
       "25%    1149.525000    1147.160000           1.002918e+06  2.320811e+09   \n",
       "50%    2322.250000    2322.220000           1.586690e+06  3.145607e+09   \n",
       "75%    2542.062500    2540.482500           2.608385e+06  4.285333e+09   \n",
       "max    2776.000000    2763.040000           1.915506e+07  2.285439e+10   \n",
       "\n",
       "       No. of Trades  Deliverable Qty  % Dly Qt to Traded Qty  \n",
       "count     498.000000     4.980000e+02              498.000000  \n",
       "mean    79453.941767     1.363844e+06               66.565281  \n",
       "std     43309.473159     1.019966e+06                9.430002  \n",
       "min         1.000000     0.000000e+00                0.000000  \n",
       "25%     53267.750000     6.762732e+05               61.490000  \n",
       "50%     72291.000000     1.064716e+06               68.115000  \n",
       "75%     94810.250000     1.770661e+06               72.422500  \n",
       "max    408583.000000     9.575992e+06              100.000000  "
      ]
     },
     "execution_count": 7,
     "metadata": {},
     "output_type": "execute_result"
    }
   ],
   "source": [
    "data_stock.describe()"
   ]
  },
  {
   "cell_type": "code",
   "execution_count": 9,
   "metadata": {
    "collapsed": false
   },
   "outputs": [
    {
     "name": "stdout",
     "output_type": "stream",
     "text": [
      "<class 'pandas.core.frame.DataFrame'>\n",
      "RangeIndex: 498 entries, 0 to 497\n",
      "Data columns (total 15 columns):\n",
      "Symbol                    498 non-null object\n",
      "Series                    498 non-null object\n",
      "Date                      498 non-null object\n",
      "Prev Close                498 non-null float64\n",
      "Open Price                498 non-null float64\n",
      "High Price                498 non-null float64\n",
      "Low Price                 498 non-null float64\n",
      "Last Price                498 non-null float64\n",
      "Close Price               498 non-null float64\n",
      "Average Price             498 non-null float64\n",
      "Total Traded Quantity     498 non-null int64\n",
      "Turnover                  498 non-null float64\n",
      "No. of Trades             498 non-null int64\n",
      "Deliverable Qty           498 non-null int64\n",
      "% Dly Qt to Traded Qty    498 non-null float64\n",
      "dtypes: float64(9), int64(3), object(3)\n",
      "memory usage: 58.4+ KB\n"
     ]
    }
   ],
   "source": [
    "data_stock.info()"
   ]
  },
  {
   "cell_type": "code",
   "execution_count": 10,
   "metadata": {
    "collapsed": true
   },
   "outputs": [],
   "source": [
    "data_index = pd.read_csv(r\"C:\\Users\\Acer\\ADITYA\\Desktop\\RedCarpet\\TNIFTYIT2015.csv\")"
   ]
  },
  {
   "cell_type": "code",
   "execution_count": 11,
   "metadata": {
    "collapsed": false
   },
   "outputs": [
    {
     "name": "stdout",
     "output_type": "stream",
     "text": [
      "<class 'pandas.core.frame.DataFrame'>\n",
      "RangeIndex: 248 entries, 0 to 247\n",
      "Data columns (total 7 columns):\n",
      "Date                 248 non-null object\n",
      "Open                 248 non-null float64\n",
      "High                 248 non-null float64\n",
      "Low                  248 non-null float64\n",
      "Close                248 non-null float64\n",
      "Shares Traded        248 non-null int64\n",
      "Turnover (Rs. Cr)    248 non-null float64\n",
      "dtypes: float64(5), int64(1), object(1)\n",
      "memory usage: 13.6+ KB\n"
     ]
    }
   ],
   "source": [
    "data_index.info()"
   ]
  },
  {
   "cell_type": "code",
   "execution_count": 12,
   "metadata": {
    "collapsed": false
   },
   "outputs": [
    {
     "data": {
      "text/html": [
       "<div>\n",
       "<table border=\"1\" class=\"dataframe\">\n",
       "  <thead>\n",
       "    <tr style=\"text-align: right;\">\n",
       "      <th></th>\n",
       "      <th>Open</th>\n",
       "      <th>High</th>\n",
       "      <th>Low</th>\n",
       "      <th>Close</th>\n",
       "      <th>Shares Traded</th>\n",
       "      <th>Turnover (Rs. Cr)</th>\n",
       "    </tr>\n",
       "  </thead>\n",
       "  <tbody>\n",
       "    <tr>\n",
       "      <th>count</th>\n",
       "      <td>248.000000</td>\n",
       "      <td>248.000000</td>\n",
       "      <td>248.000000</td>\n",
       "      <td>248.000000</td>\n",
       "      <td>2.480000e+02</td>\n",
       "      <td>248.000000</td>\n",
       "    </tr>\n",
       "    <tr>\n",
       "      <th>mean</th>\n",
       "      <td>11601.495968</td>\n",
       "      <td>11673.756250</td>\n",
       "      <td>11505.632056</td>\n",
       "      <td>11585.626613</td>\n",
       "      <td>1.383053e+07</td>\n",
       "      <td>1354.939960</td>\n",
       "    </tr>\n",
       "    <tr>\n",
       "      <th>std</th>\n",
       "      <td>468.997883</td>\n",
       "      <td>472.763542</td>\n",
       "      <td>462.203401</td>\n",
       "      <td>466.678465</td>\n",
       "      <td>6.401886e+06</td>\n",
       "      <td>546.153927</td>\n",
       "    </tr>\n",
       "    <tr>\n",
       "      <th>min</th>\n",
       "      <td>10840.650000</td>\n",
       "      <td>10950.250000</td>\n",
       "      <td>10759.850000</td>\n",
       "      <td>10798.250000</td>\n",
       "      <td>7.952400e+05</td>\n",
       "      <td>82.720000</td>\n",
       "    </tr>\n",
       "    <tr>\n",
       "      <th>25%</th>\n",
       "      <td>11214.762500</td>\n",
       "      <td>11268.200000</td>\n",
       "      <td>11133.312500</td>\n",
       "      <td>11210.200000</td>\n",
       "      <td>9.304708e+06</td>\n",
       "      <td>943.850000</td>\n",
       "    </tr>\n",
       "    <tr>\n",
       "      <th>50%</th>\n",
       "      <td>11524.625000</td>\n",
       "      <td>11578.075000</td>\n",
       "      <td>11418.975000</td>\n",
       "      <td>11503.850000</td>\n",
       "      <td>1.218344e+07</td>\n",
       "      <td>1259.385000</td>\n",
       "    </tr>\n",
       "    <tr>\n",
       "      <th>75%</th>\n",
       "      <td>11927.637500</td>\n",
       "      <td>11999.187500</td>\n",
       "      <td>11787.050000</td>\n",
       "      <td>11886.337500</td>\n",
       "      <td>1.667710e+07</td>\n",
       "      <td>1657.345000</td>\n",
       "    </tr>\n",
       "    <tr>\n",
       "      <th>max</th>\n",
       "      <td>12885.750000</td>\n",
       "      <td>12908.100000</td>\n",
       "      <td>12635.500000</td>\n",
       "      <td>12855.900000</td>\n",
       "      <td>4.461970e+07</td>\n",
       "      <td>3685.160000</td>\n",
       "    </tr>\n",
       "  </tbody>\n",
       "</table>\n",
       "</div>"
      ],
      "text/plain": [
       "               Open          High           Low         Close  Shares Traded  \\\n",
       "count    248.000000    248.000000    248.000000    248.000000   2.480000e+02   \n",
       "mean   11601.495968  11673.756250  11505.632056  11585.626613   1.383053e+07   \n",
       "std      468.997883    472.763542    462.203401    466.678465   6.401886e+06   \n",
       "min    10840.650000  10950.250000  10759.850000  10798.250000   7.952400e+05   \n",
       "25%    11214.762500  11268.200000  11133.312500  11210.200000   9.304708e+06   \n",
       "50%    11524.625000  11578.075000  11418.975000  11503.850000   1.218344e+07   \n",
       "75%    11927.637500  11999.187500  11787.050000  11886.337500   1.667710e+07   \n",
       "max    12885.750000  12908.100000  12635.500000  12855.900000   4.461970e+07   \n",
       "\n",
       "       Turnover (Rs. Cr)  \n",
       "count         248.000000  \n",
       "mean         1354.939960  \n",
       "std           546.153927  \n",
       "min            82.720000  \n",
       "25%           943.850000  \n",
       "50%          1259.385000  \n",
       "75%          1657.345000  \n",
       "max          3685.160000  "
      ]
     },
     "execution_count": 12,
     "metadata": {},
     "output_type": "execute_result"
    }
   ],
   "source": [
    "data_index.describe()"
   ]
  },
  {
   "cell_type": "code",
   "execution_count": 13,
   "metadata": {
    "collapsed": true
   },
   "outputs": [],
   "source": [
    "data_stock[\"Date\"]= pd.to_datetime(_tcs_infy[\"Date\"])"
   ]
  },
  {
   "cell_type": "code",
   "execution_count": 14,
   "metadata": {
    "collapsed": true
   },
   "outputs": [],
   "source": [
    "def keyword (Date):\n",
    "    return datetime.date(pd.to_datetime(datetime.date(datetime.strptime(str(Date), '%Y-%m-%d')))) #Creating a function to change the data type"
   ]
  },
  {
   "cell_type": "code",
   "execution_count": 15,
   "metadata": {
    "collapsed": true
   },
   "outputs": [],
   "source": [
    "def week_count(Date):\n",
    "    Date1 = keyword(Date)\n",
    "    #print(Date1)\n",
    "    if Date1 <= keyword('2015-1-28'):\n",
    "        return (\"week4\")\n",
    "    elif Date1 >keyword('2015-1-28') and Date1  <= keyword('2015-4-22'):\n",
    "        return (\"week16\")\n",
    "    elif Date1 > keyword('2015-4-22') and Date1  <= keyword('2015-7-15'):\n",
    "        return (\"week28\")\n",
    "    elif Date1 > keyword('2015-7-15') and Date1 <= keyword('2015-10-7'):\n",
    "        return (\"week40\")\n",
    "    elif Date1 > keyword('2015-10-7') and Date1  <= keyword('2015-12-31'):\n",
    "        return (\"week52\")\n",
    "    else:\n",
    "        pass "
   ]
  },
  {
   "cell_type": "code",
   "execution_count": 18,
   "metadata": {
    "collapsed": false
   },
   "outputs": [
    {
     "data": {
      "text/plain": [
       "datetime.date(2015, 1, 25)"
      ]
     },
     "execution_count": 18,
     "metadata": {},
     "output_type": "execute_result"
    }
   ],
   "source": [
    "keyword('2015-1-25')"
   ]
  },
  {
   "cell_type": "code",
   "execution_count": 19,
   "metadata": {
    "collapsed": false
   },
   "outputs": [
    {
     "data": {
      "text/plain": [
       "'week40'"
      ]
     },
     "execution_count": 19,
     "metadata": {},
     "output_type": "execute_result"
    }
   ],
   "source": [
    "week_count('2015-10-1')"
   ]
  },
  {
   "cell_type": "code",
   "execution_count": 23,
   "metadata": {
    "collapsed": false
   },
   "outputs": [
    {
     "name": "stdout",
     "output_type": "stream",
     "text": [
      "498\n"
     ]
    }
   ],
   "source": [
    "print(len(week_year))"
   ]
  },
  {
   "cell_type": "code",
   "execution_count": 26,
   "metadata": {
    "collapsed": false
   },
   "outputs": [],
   "source": [
    "week_year = pd.DataFrame(week_year)"
   ]
  },
  {
   "cell_type": "code",
   "execution_count": 27,
   "metadata": {
    "collapsed": true
   },
   "outputs": [],
   "source": [
    "data_stock['week_year'] = week_year"
   ]
  },
  {
   "cell_type": "code",
   "execution_count": 29,
   "metadata": {
    "collapsed": false
   },
   "outputs": [
    {
     "data": {
      "text/html": [
       "<div>\n",
       "<table border=\"1\" class=\"dataframe\">\n",
       "  <thead>\n",
       "    <tr style=\"text-align: right;\">\n",
       "      <th></th>\n",
       "      <th>Symbol</th>\n",
       "      <th>Series</th>\n",
       "      <th>Date</th>\n",
       "      <th>Prev Close</th>\n",
       "      <th>Open Price</th>\n",
       "      <th>High Price</th>\n",
       "      <th>Low Price</th>\n",
       "      <th>Last Price</th>\n",
       "      <th>Close Price</th>\n",
       "      <th>Average Price</th>\n",
       "      <th>Total Traded Quantity</th>\n",
       "      <th>Turnover</th>\n",
       "      <th>No. of Trades</th>\n",
       "      <th>Deliverable Qty</th>\n",
       "      <th>% Dly Qt to Traded Qty</th>\n",
       "      <th>week_year</th>\n",
       "    </tr>\n",
       "  </thead>\n",
       "  <tbody>\n",
       "    <tr>\n",
       "      <th>0</th>\n",
       "      <td>TCS</td>\n",
       "      <td>EQ</td>\n",
       "      <td>2015-01-01</td>\n",
       "      <td>2558.25</td>\n",
       "      <td>2567.0</td>\n",
       "      <td>2567.00</td>\n",
       "      <td>2541.00</td>\n",
       "      <td>2550.00</td>\n",
       "      <td>2545.55</td>\n",
       "      <td>2548.51</td>\n",
       "      <td>183415</td>\n",
       "      <td>4.674345e+08</td>\n",
       "      <td>8002</td>\n",
       "      <td>52870</td>\n",
       "      <td>28.83</td>\n",
       "      <td>week4</td>\n",
       "    </tr>\n",
       "    <tr>\n",
       "      <th>1</th>\n",
       "      <td>TCS</td>\n",
       "      <td>EQ</td>\n",
       "      <td>2015-01-02</td>\n",
       "      <td>2545.55</td>\n",
       "      <td>2551.0</td>\n",
       "      <td>2590.95</td>\n",
       "      <td>2550.60</td>\n",
       "      <td>2588.40</td>\n",
       "      <td>2579.45</td>\n",
       "      <td>2568.19</td>\n",
       "      <td>462870</td>\n",
       "      <td>1.188740e+09</td>\n",
       "      <td>27585</td>\n",
       "      <td>309350</td>\n",
       "      <td>66.83</td>\n",
       "      <td>week4</td>\n",
       "    </tr>\n",
       "    <tr>\n",
       "      <th>2</th>\n",
       "      <td>TCS</td>\n",
       "      <td>EQ</td>\n",
       "      <td>2015-01-05</td>\n",
       "      <td>2579.45</td>\n",
       "      <td>2581.0</td>\n",
       "      <td>2599.90</td>\n",
       "      <td>2524.65</td>\n",
       "      <td>2538.10</td>\n",
       "      <td>2540.25</td>\n",
       "      <td>2563.94</td>\n",
       "      <td>877121</td>\n",
       "      <td>2.248886e+09</td>\n",
       "      <td>43234</td>\n",
       "      <td>456728</td>\n",
       "      <td>52.07</td>\n",
       "      <td>week4</td>\n",
       "    </tr>\n",
       "    <tr>\n",
       "      <th>3</th>\n",
       "      <td>TCS</td>\n",
       "      <td>EQ</td>\n",
       "      <td>2015-01-06</td>\n",
       "      <td>2540.25</td>\n",
       "      <td>2529.1</td>\n",
       "      <td>2529.10</td>\n",
       "      <td>2440.00</td>\n",
       "      <td>2450.05</td>\n",
       "      <td>2446.60</td>\n",
       "      <td>2466.90</td>\n",
       "      <td>1211892</td>\n",
       "      <td>2.989615e+09</td>\n",
       "      <td>84503</td>\n",
       "      <td>714306</td>\n",
       "      <td>58.94</td>\n",
       "      <td>week4</td>\n",
       "    </tr>\n",
       "    <tr>\n",
       "      <th>4</th>\n",
       "      <td>TCS</td>\n",
       "      <td>EQ</td>\n",
       "      <td>2015-01-07</td>\n",
       "      <td>2446.60</td>\n",
       "      <td>2470.0</td>\n",
       "      <td>2479.15</td>\n",
       "      <td>2407.45</td>\n",
       "      <td>2426.90</td>\n",
       "      <td>2417.70</td>\n",
       "      <td>2433.96</td>\n",
       "      <td>1318166</td>\n",
       "      <td>3.208362e+09</td>\n",
       "      <td>101741</td>\n",
       "      <td>886368</td>\n",
       "      <td>67.24</td>\n",
       "      <td>week4</td>\n",
       "    </tr>\n",
       "  </tbody>\n",
       "</table>\n",
       "</div>"
      ],
      "text/plain": [
       "  Symbol Series       Date  Prev Close  Open Price  High Price  Low Price  \\\n",
       "0    TCS     EQ 2015-01-01     2558.25      2567.0     2567.00    2541.00   \n",
       "1    TCS     EQ 2015-01-02     2545.55      2551.0     2590.95    2550.60   \n",
       "2    TCS     EQ 2015-01-05     2579.45      2581.0     2599.90    2524.65   \n",
       "3    TCS     EQ 2015-01-06     2540.25      2529.1     2529.10    2440.00   \n",
       "4    TCS     EQ 2015-01-07     2446.60      2470.0     2479.15    2407.45   \n",
       "\n",
       "   Last Price  Close Price  Average Price  Total Traded Quantity  \\\n",
       "0     2550.00      2545.55        2548.51                 183415   \n",
       "1     2588.40      2579.45        2568.19                 462870   \n",
       "2     2538.10      2540.25        2563.94                 877121   \n",
       "3     2450.05      2446.60        2466.90                1211892   \n",
       "4     2426.90      2417.70        2433.96                1318166   \n",
       "\n",
       "       Turnover  No. of Trades  Deliverable Qty  % Dly Qt to Traded Qty  \\\n",
       "0  4.674345e+08           8002            52870                   28.83   \n",
       "1  1.188740e+09          27585           309350                   66.83   \n",
       "2  2.248886e+09          43234           456728                   52.07   \n",
       "3  2.989615e+09          84503           714306                   58.94   \n",
       "4  3.208362e+09         101741           886368                   67.24   \n",
       "\n",
       "  week_year  \n",
       "0     week4  \n",
       "1     week4  \n",
       "2     week4  \n",
       "3     week4  \n",
       "4     week4  "
      ]
     },
     "execution_count": 29,
     "metadata": {},
     "output_type": "execute_result"
    }
   ],
   "source": [
    "data_stock.head()"
   ]
  },
  {
   "cell_type": "code",
   "execution_count": 30,
   "metadata": {
    "collapsed": true
   },
   "outputs": [],
   "source": [
    "data_stock.to_csv('TCS&INFY.csv') "
   ]
  },
  {
   "cell_type": "code",
   "execution_count": 31,
   "metadata": {
    "collapsed": true
   },
   "outputs": [],
   "source": [
    "data_index[\"Date\"]= pd.to_datetime(data_index[\"Date\"])"
   ]
  },
  {
   "cell_type": "code",
   "execution_count": 33,
   "metadata": {
    "collapsed": true
   },
   "outputs": [],
   "source": [
    "week_year = []\n",
    "i = 1\n",
    "count = 0\n",
    "while count < 248:\n",
    "    temp=data_index.Date[count]\n",
    "    week_year.append(week_count(str.split(str(temp),' ')[0]))\n",
    "    count += 1"
   ]
  },
  {
   "cell_type": "code",
   "execution_count": 35,
   "metadata": {
    "collapsed": false
   },
   "outputs": [
    {
     "name": "stdout",
     "output_type": "stream",
     "text": [
      "248\n"
     ]
    }
   ],
   "source": [
    "print(len(week_year))"
   ]
  },
  {
   "cell_type": "code",
   "execution_count": 36,
   "metadata": {
    "collapsed": true
   },
   "outputs": [],
   "source": [
    "week_year = pd.DataFrame(week_year)"
   ]
  },
  {
   "cell_type": "code",
   "execution_count": 37,
   "metadata": {
    "collapsed": true
   },
   "outputs": [],
   "source": [
    "data_index['week_year'] = week_year"
   ]
  },
  {
   "cell_type": "code",
   "execution_count": 38,
   "metadata": {
    "collapsed": false
   },
   "outputs": [
    {
     "data": {
      "text/html": [
       "<div>\n",
       "<table border=\"1\" class=\"dataframe\">\n",
       "  <thead>\n",
       "    <tr style=\"text-align: right;\">\n",
       "      <th></th>\n",
       "      <th>Date</th>\n",
       "      <th>Open</th>\n",
       "      <th>High</th>\n",
       "      <th>Low</th>\n",
       "      <th>Close</th>\n",
       "      <th>Shares Traded</th>\n",
       "      <th>Turnover (Rs. Cr)</th>\n",
       "      <th>week_year</th>\n",
       "    </tr>\n",
       "  </thead>\n",
       "  <tbody>\n",
       "    <tr>\n",
       "      <th>0</th>\n",
       "      <td>2015-01-01</td>\n",
       "      <td>11214.80</td>\n",
       "      <td>11235.75</td>\n",
       "      <td>11166.35</td>\n",
       "      <td>11215.70</td>\n",
       "      <td>4246150</td>\n",
       "      <td>357.51</td>\n",
       "      <td>week4</td>\n",
       "    </tr>\n",
       "    <tr>\n",
       "      <th>1</th>\n",
       "      <td>2015-01-02</td>\n",
       "      <td>11214.65</td>\n",
       "      <td>11399.10</td>\n",
       "      <td>11214.65</td>\n",
       "      <td>11372.10</td>\n",
       "      <td>10004862</td>\n",
       "      <td>964.56</td>\n",
       "      <td>week4</td>\n",
       "    </tr>\n",
       "    <tr>\n",
       "      <th>2</th>\n",
       "      <td>2015-01-05</td>\n",
       "      <td>11369.35</td>\n",
       "      <td>11433.75</td>\n",
       "      <td>11186.95</td>\n",
       "      <td>11248.55</td>\n",
       "      <td>8858018</td>\n",
       "      <td>1059.00</td>\n",
       "      <td>week4</td>\n",
       "    </tr>\n",
       "    <tr>\n",
       "      <th>3</th>\n",
       "      <td>2015-01-06</td>\n",
       "      <td>11186.10</td>\n",
       "      <td>11186.10</td>\n",
       "      <td>10909.00</td>\n",
       "      <td>10959.90</td>\n",
       "      <td>12515739</td>\n",
       "      <td>1364.50</td>\n",
       "      <td>week4</td>\n",
       "    </tr>\n",
       "    <tr>\n",
       "      <th>4</th>\n",
       "      <td>2015-01-07</td>\n",
       "      <td>11013.20</td>\n",
       "      <td>11042.35</td>\n",
       "      <td>10889.55</td>\n",
       "      <td>10916.00</td>\n",
       "      <td>10976356</td>\n",
       "      <td>1203.44</td>\n",
       "      <td>week4</td>\n",
       "    </tr>\n",
       "  </tbody>\n",
       "</table>\n",
       "</div>"
      ],
      "text/plain": [
       "        Date      Open      High       Low     Close  Shares Traded  \\\n",
       "0 2015-01-01  11214.80  11235.75  11166.35  11215.70        4246150   \n",
       "1 2015-01-02  11214.65  11399.10  11214.65  11372.10       10004862   \n",
       "2 2015-01-05  11369.35  11433.75  11186.95  11248.55        8858018   \n",
       "3 2015-01-06  11186.10  11186.10  10909.00  10959.90       12515739   \n",
       "4 2015-01-07  11013.20  11042.35  10889.55  10916.00       10976356   \n",
       "\n",
       "   Turnover (Rs. Cr) week_year  \n",
       "0             357.51     week4  \n",
       "1             964.56     week4  \n",
       "2            1059.00     week4  \n",
       "3            1364.50     week4  \n",
       "4            1203.44     week4  "
      ]
     },
     "execution_count": 38,
     "metadata": {},
     "output_type": "execute_result"
    }
   ],
   "source": [
    "data_index.head()"
   ]
  },
  {
   "cell_type": "code",
   "execution_count": 39,
   "metadata": {
    "collapsed": true
   },
   "outputs": [],
   "source": [
    "data_index.to_csv('NIFTYIT.csv')"
   ]
  },
  {
   "cell_type": "markdown",
   "metadata": {},
   "source": [
    "#### TCS & INFY"
   ]
  },
  {
   "cell_type": "code",
   "execution_count": 41,
   "metadata": {
    "collapsed": true
   },
   "outputs": [],
   "source": [
    "_tcs_week4_mv_avg = data_stock[(data_stock[\"Date\"]<= '2015-1-28') & (data_stock[\"Symbol\"]==\"TCS\")][\"Close Price\"].mean()\n",
    "_infy_week4_mv_avg= _tcs_infy[(data_stock[\"Date\"]<= '2015-1-28') & (data_stock[\"Symbol\"]==\"INFY\")][\"Close Price\"].mean()    \n",
    "_tcs_week16_mv_avg= _tcs_infy[(data_stock[\"Date\"] >'2015-1-28') & (data_stock[\"Date\"]<= '2015-4-22') & (data_stock[\"Symbol\"]==\"TCS\")][\"Close Price\"].mean()\n",
    "_infy_week16_mv_avg=_tcs_infy[(data_stock[\"Date\"] >'2015-1-28') & (data_stock[\"Date\"]<= '2015-4-22') & (data_stock[\"Symbol\"]==\"INFY\")][\"Close Price\"].mean()\n",
    "_tcs_week28_mv_avg=_tcs_infy[(data_stock[\"Date\"] >'2015-4-22') & (data_stock[\"Date\"]<= '2015-7-15') & (data_stock[\"Symbol\"]==\"TCS\")][\"Close Price\"].mean()\n",
    "_infy_week28_mv_avg=_tcs_infy[(data_stock[\"Date\"] >'2015-4-22') & (data_stock[\"Date\"]<= '2015-7-15') & (data_stock[\"Symbol\"]==\"INFY\")][\"Close Price\"].mean()\n",
    "_tcs_week40_mv_avg=_tcs_infy[(data_stock[\"Date\"] >'2015-7-15') & (data_stock[\"Date\"]<= '2015-10-7') & (data_stock[\"Symbol\"]==\"TCS\")][\"Close Price\"].mean()\n",
    "_infy_week40_mv_avg=_tcs_infy[(data_stock[\"Date\"] >'2015-7-15') & (data_stock[\"Date\"]<= '2015-10-7') & (data_stock[\"Symbol\"]==\"INFY\")][\"Close Price\"].mean()\n",
    "_tcs_week52_mv_avg=_tcs_infy[(data_stock[\"Date\"] >'2015-10-7') & (data_stock[\"Date\"]<= '2015-12-31') & (data_stock[\"Symbol\"]==\"TCS\")][\"Close Price\"].mean()\n",
    "_infy_week52_mv_avg=_tcs_infy[(data_stock[\"Date\"] >'2015-10-7') & (data_stock[\"Date\"]<= '2015-12-31') & (data_stock[\"Symbol\"]==\"INFY\")][\"Close Price\"].mean()"
   ]
  },
  {
   "cell_type": "code",
   "execution_count": 42,
   "metadata": {
    "collapsed": false
   },
   "outputs": [
    {
     "name": "stdout",
     "output_type": "stream",
     "text": [
      "2508.9736842105267\n",
      "2085.4921052631585\n",
      "2587.566071428571\n",
      "2224.9133928571423\n",
      "2550.4389830508476\n",
      "1610.4116666666669\n",
      "2578.9991379310345\n",
      "1100.8456140350877\n",
      "2444.319298245614\n",
      "1095.478947368421\n"
     ]
    }
   ],
   "source": [
    "print(_tcs_week4_mv_avg)\n",
    "print(_infy_week4_mv_avg)\n",
    "print(_tcs_week16_mv_avg)\n",
    "print(_infy_week16_mv_avg)\n",
    "print(_tcs_week28_mv_avg)\n",
    "print(_infy_week28_mv_avg)\n",
    "print(_tcs_week40_mv_avg)\n",
    "print(_infy_week40_mv_avg)\n",
    "print(_tcs_week52_mv_avg)\n",
    "print(_infy_week52_mv_avg)"
   ]
  },
  {
   "cell_type": "markdown",
   "metadata": {},
   "source": [
    "#### NIFTY"
   ]
  },
  {
   "cell_type": "code",
   "execution_count": 43,
   "metadata": {
    "collapsed": true
   },
   "outputs": [],
   "source": [
    "_nIfTy_week4_mv_avg = data_index[(data_index[\"Date\"]<= '2015-1-28')][\"Close\"].mean()   \n",
    "_nIfTy_week16_mv_avg= data_index[(data_index[\"Date\"] >'2015-1-28') & (data_index[\"Date\"]<= '2015-4-22')][\"Close\"].mean()\n",
    "_nIfTy_week28_mv_avg= data_index[(data_index[\"Date\"] >'2015-4-22') & (data_index[\"Date\"]<= '2015-7-15')][\"Close\"].mean()\n",
    "_nIfTy_week40_mv_avg= data_index[(data_index[\"Date\"] >'2015-7-15') & (data_index[\"Date\"]<= '2015-10-7')][\"Close\"].mean()\n",
    "_nIfTy_week52_mv_avg= data_index[(data_index[\"Date\"] >'2015-10-7') & (data_index[\"Date\"]<= '2015-12-31')][\"Close\"].mean()"
   ]
  },
  {
   "cell_type": "code",
   "execution_count": 44,
   "metadata": {
    "collapsed": false
   },
   "outputs": [
    {
     "name": "stdout",
     "output_type": "stream",
     "text": [
      "11500.563157894738\n",
      "12252.784821428573\n",
      "11235.974576271186\n",
      "11634.748245614033\n",
      "11271.326315789473\n"
     ]
    }
   ],
   "source": [
    "print(_nIfTy_week4_mv_avg)\n",
    "print(_nIfTy_week16_mv_avg)\n",
    "print(_nIfTy_week28_mv_avg)\n",
    "print(_nIfTy_week40_mv_avg)\n",
    "print(_nIfTy_week52_mv_avg)"
   ]
  },
  {
   "cell_type": "markdown",
   "metadata": {},
   "source": [
    "### Part-1 , 1.2"
   ]
  },
  {
   "cell_type": "code",
   "execution_count": 45,
   "metadata": {
    "collapsed": true
   },
   "outputs": [],
   "source": [
    "from matplotlib.pylab import rcParams\n",
    "rcParams['figure.figsize'] = 1, 8\n",
    "import matplotlib.pyplot as plt \n",
    "%matplotlib inline"
   ]
  },
  {
   "cell_type": "code",
   "execution_count": 46,
   "metadata": {
    "collapsed": true
   },
   "outputs": [],
   "source": [
    "data_stock_tcs_infy = pd.read_csv(r\"C:\\Users\\ADITYA\\Desktop\\Red Carpet\\TCS&INFY.csv\",parse_dates=['Date'], index_col='Date')"
   ]
  },
  {
   "cell_type": "code",
   "execution_count": 47,
   "metadata": {
    "collapsed": true
   },
   "outputs": [],
   "source": [
    "index_nifty_it = pd.read_csv(r\"C:\\Users\\ADITYA\\Desktop\\Red Carpet\\NIFTYIT.csv\",parse_dates=['Date'], index_col='Date')"
   ]
  },
  {
   "cell_type": "code",
   "execution_count": 48,
   "metadata": {
    "collapsed": false
   },
   "outputs": [
    {
     "data": {
      "text/plain": [
       "Index(['Symbol', 'Series', 'Prev Close', 'Open Price', 'High Price',\n",
       "       'Low Price', 'Last Price', 'Close Price', 'Average Price',\n",
       "       'Total Traded Quantity', 'Turnover', 'No. of Trades', 'Deliverable Qty',\n",
       "       '% Dly Qt to Traded Qty'],\n",
       "      dtype='object')"
      ]
     },
     "execution_count": 48,
     "metadata": {},
     "output_type": "execute_result"
    }
   ],
   "source": [
    "data_stock_tcs_infy.columns"
   ]
  },
  {
   "cell_type": "code",
   "execution_count": 49,
   "metadata": {
    "collapsed": false
   },
   "outputs": [
    {
     "data": {
      "text/plain": [
       "Index(['Open', 'High', 'Low', 'Close', 'Shares Traded', 'Turnover (Rs. Cr)'], dtype='object')"
      ]
     },
     "execution_count": 49,
     "metadata": {},
     "output_type": "execute_result"
    }
   ],
   "source": [
    "index_nifty_it.columns"
   ]
  },
  {
   "cell_type": "code",
   "execution_count": 50,
   "metadata": {
    "collapsed": true
   },
   "outputs": [],
   "source": [
    "from statsmodels.tsa.stattools import adfuller"
   ]
  },
  {
   "cell_type": "code",
   "execution_count": 51,
   "metadata": {
    "collapsed": false
   },
   "outputs": [
    {
     "data": {
      "text/plain": [
       "DatetimeIndex(['2015-01-01', '2015-01-02', '2015-01-05', '2015-01-06',\n",
       "               '2015-01-07', '2015-01-08', '2015-01-09', '2015-01-12',\n",
       "               '2015-01-13', '2015-01-14',\n",
       "               ...\n",
       "               '2015-12-17', '2015-12-18', '2015-12-21', '2015-12-22',\n",
       "               '2015-12-23', '2015-12-24', '2015-12-28', '2015-12-29',\n",
       "               '2015-12-30', '2015-12-31'],\n",
       "              dtype='datetime64[ns]', name='Date', length=498, freq=None)"
      ]
     },
     "execution_count": 51,
     "metadata": {},
     "output_type": "execute_result"
    }
   ],
   "source": [
    "data_stock_tcs_infy.index"
   ]
  },
  {
   "cell_type": "code",
   "execution_count": 52,
   "metadata": {
    "collapsed": false
   },
   "outputs": [
    {
     "data": {
      "text/plain": [
       "DatetimeIndex(['2015-01-01', '2015-01-02', '2015-01-05', '2015-01-06',\n",
       "               '2015-01-07', '2015-01-08', '2015-01-09', '2015-01-12',\n",
       "               '2015-01-13', '2015-01-14',\n",
       "               ...\n",
       "               '2015-12-17', '2015-12-18', '2015-12-21', '2015-12-22',\n",
       "               '2015-12-23', '2015-12-24', '2015-12-28', '2015-12-29',\n",
       "               '2015-12-30', '2015-12-31'],\n",
       "              dtype='datetime64[ns]', name='Date', length=248, freq=None)"
      ]
     },
     "execution_count": 52,
     "metadata": {},
     "output_type": "execute_result"
    }
   ],
   "source": [
    "index_nifty_it.index"
   ]
  },
  {
   "cell_type": "markdown",
   "metadata": {},
   "source": [
    "#### MOVING WINDOW"
   ]
  },
  {
   "cell_type": "markdown",
   "metadata": {},
   "source": [
    "### data_stock_tcs_infy"
   ]
  },
  {
   "cell_type": "code",
   "execution_count": 59,
   "metadata": {
    "collapsed": true
   },
   "outputs": [],
   "source": [
    "def window(timeseries):\n",
    "    \n",
    "    mean = pd.rolling_mean(timeseries, window=10)\n",
    "    std = pd.rolling_std(timeseries, window=10)\n",
    "\n",
    "    orig = plt.plot(timeseries, color='blue',label='Original')\n",
    "    mean = plt.plot(mean, color='red', label='Rolling Mean')\n",
    "    std = plt.plot(std, color='black', label = 'Rolling Std')\n",
    "    plt.legend(loc='best')\n",
    "    plt.title('Rolling Mean & Standard Deviation')\n",
    "    plt.show(block=False)\n",
    "    \n",
    "    print ('Results of Dickey-Fuller Test')\n",
    "    values = adfuller(timeseries, autolag='AIC')\n",
    "    output = pd.Series(values[0:4], index=['Test Statistic','p-value','#Lags Used','Number of Observations Used'])\n",
    "    for key,value in values[4].items():\n",
    "        output['Critical Value (%s)'%key] = value\n",
    "    print(output)"
   ]
  },
  {
   "cell_type": "code",
   "execution_count": 60,
   "metadata": {
    "collapsed": true
   },
   "outputs": [],
   "source": [
    "tcs_infy_stock = data_stock_tcs_infy['Close Price']"
   ]
  },
  {
   "cell_type": "code",
   "execution_count": 61,
   "metadata": {
    "collapsed": false
   },
   "outputs": [
    {
     "data": {
      "text/plain": [
       "Date\n",
       "2015-01-01    2545.55\n",
       "2015-01-02    2579.45\n",
       "2015-01-05    2540.25\n",
       "2015-01-06    2446.60\n",
       "2015-01-07    2417.70\n",
       "Name: Close Price, dtype: float64"
      ]
     },
     "execution_count": 61,
     "metadata": {},
     "output_type": "execute_result"
    }
   ],
   "source": [
    "tcs_infy_stock.head()"
   ]
  },
  {
   "cell_type": "code",
   "execution_count": 62,
   "metadata": {
    "collapsed": false
   },
   "outputs": [
    {
     "name": "stderr",
     "output_type": "stream",
     "text": [
      "C:\\ProgramData\\Anaconda3\\lib\\site-packages\\ipykernel\\__main__.py:3: FutureWarning: pd.rolling_mean is deprecated for Series and will be removed in a future version, replace with \n",
      "\tSeries.rolling(window=10,center=False).mean()\n",
      "  app.launch_new_instance()\n",
      "C:\\ProgramData\\Anaconda3\\lib\\site-packages\\ipykernel\\__main__.py:4: FutureWarning: pd.rolling_std is deprecated for Series and will be removed in a future version, replace with \n",
      "\tSeries.rolling(window=10,center=False).std()\n"
     ]
    },
    {
     "data": {
      "image/png": "[encoded data removed]",
      "text/plain": [
       "<matplotlib.figure.Figure at 0x296c7977fd0>"
      ]
     },
     "metadata": {},
     "output_type": "display_data"
    },
    {
     "name": "stdout",
     "output_type": "stream",
     "text": [
      "Results of Dickey-Fuller Test\n",
      "Test Statistic                  -0.620744\n",
      "p-value                          0.866226\n",
      "#Lags Used                       0.000000\n",
      "Number of Observations Used    497.000000\n",
      "Critical Value (1%)             -3.443576\n",
      "Critical Value (5%)             -2.867373\n",
      "Critical Value (10%)            -2.569877\n",
      "dtype: float64\n"
     ]
    }
   ],
   "source": [
    "window(tcs_infy_stock)"
   ]
  },
  {
   "cell_type": "code",
   "execution_count": 64,
   "metadata": {
    "collapsed": true
   },
   "outputs": [],
   "source": [
    "def window(timeseries):\n",
    "    \n",
    "    mean = pd.rolling_mean(timeseries, window=75)\n",
    "    std = pd.rolling_std(timeseries, window=75)\n",
    "\n",
    "    orig = plt.plot(timeseries, color='blue',label='Original')\n",
    "    mean = plt.plot(mean, color='red', label='Rolling Mean')\n",
    "    std = plt.plot(std, color='black', label = 'Rolling Std')\n",
    "    plt.legend(loc='best')\n",
    "    plt.title('Rolling Mean & Standard Deviation')\n",
    "    plt.show(block=False)\n",
    "    \n",
    "    print ('Results of Dickey-Fuller Test')\n",
    "    values = adfuller(timeseries, autolag='AIC')\n",
    "    output = pd.Series(values[0:4], index=['Test Statistic','p-value','#Lags Used','Number of Observations Used'])\n",
    "    for key,value in values[4].items():\n",
    "        output['Critical Value (%s)'%key] = value\n",
    "    print(output)"
   ]
  },
  {
   "cell_type": "code",
   "execution_count": 65,
   "metadata": {
    "collapsed": false
   },
   "outputs": [
    {
     "name": "stderr",
     "output_type": "stream",
     "text": [
      "C:\\ProgramData\\Anaconda3\\lib\\site-packages\\ipykernel\\__main__.py:3: FutureWarning: pd.rolling_mean is deprecated for Series and will be removed in a future version, replace with \n",
      "\tSeries.rolling(window=75,center=False).mean()\n",
      "  app.launch_new_instance()\n",
      "C:\\ProgramData\\Anaconda3\\lib\\site-packages\\ipykernel\\__main__.py:4: FutureWarning: pd.rolling_std is deprecated for Series and will be removed in a future version, replace with \n",
      "\tSeries.rolling(window=75,center=False).std()\n"
     ]
    },
    {
     "data": {
      "image/png": "[encoded data removed]",
      "text/plain": [
       "<matplotlib.figure.Figure at 0x296c7a808d0>"
      ]
     },
     "metadata": {},
     "output_type": "display_data"
    },
    {
     "name": "stdout",
     "output_type": "stream",
     "text": [
      "Results of Dickey-Fuller Test\n",
      "Test Statistic                  -0.620744\n",
      "p-value                          0.866226\n",
      "#Lags Used                       0.000000\n",
      "Number of Observations Used    497.000000\n",
      "Critical Value (1%)             -3.443576\n",
      "Critical Value (5%)             -2.867373\n",
      "Critical Value (10%)            -2.569877\n",
      "dtype: float64\n"
     ]
    }
   ],
   "source": [
    "window(tcs_infy_stock)"
   ]
  },
  {
   "cell_type": "markdown",
   "metadata": {},
   "source": [
    "### data_index_nifty_it"
   ]
  },
  {
   "cell_type": "code",
   "execution_count": 73,
   "metadata": {
    "collapsed": true
   },
   "outputs": [],
   "source": [
    "def window(timeseries):\n",
    "    \n",
    "    mean = pd.rolling_mean(timeseries, window=10)\n",
    "    std = pd.rolling_std(timeseries, window=10)\n",
    "\n",
    "    orig = plt.plot(timeseries, color='blue',label='Original')\n",
    "    mean = plt.plot(mean, color='red', label='Rolling Mean')\n",
    "    std = plt.plot(std, color='black', label = 'Rolling Std')\n",
    "    plt.legend(loc='best')\n",
    "    plt.title('Rolling Mean & Standard Deviation')\n",
    "    plt.show(block=False)\n",
    "    \n",
    "    print ('Results of Dickey-Fuller Test')\n",
    "    values = adfuller(timeseries, autolag='AIC')\n",
    "    output = pd.Series(values[0:4], index=['Test Statistic','p-value','#Lags Used','Number of Observations Used'])\n",
    "    for key,value in values[4].items():\n",
    "        output['Critical Value (%s)'%key] = value\n",
    "    print(output)"
   ]
  },
  {
   "cell_type": "code",
   "execution_count": 74,
   "metadata": {
    "collapsed": false
   },
   "outputs": [],
   "source": [
    "nifty_it_index = data_index['Close']"
   ]
  },
  {
   "cell_type": "code",
   "execution_count": 75,
   "metadata": {
    "collapsed": false
   },
   "outputs": [
    {
     "data": {
      "text/plain": [
       "0    11215.70\n",
       "1    11372.10\n",
       "2    11248.55\n",
       "3    10959.90\n",
       "4    10916.00\n",
       "Name: Close, dtype: float64"
      ]
     },
     "execution_count": 75,
     "metadata": {},
     "output_type": "execute_result"
    }
   ],
   "source": [
    "nifty_it_index.head()"
   ]
  },
  {
   "cell_type": "code",
   "execution_count": 76,
   "metadata": {
    "collapsed": false
   },
   "outputs": [
    {
     "name": "stderr",
     "output_type": "stream",
     "text": [
      "C:\\ProgramData\\Anaconda3\\lib\\site-packages\\ipykernel\\__main__.py:3: FutureWarning: pd.rolling_mean is deprecated for Series and will be removed in a future version, replace with \n",
      "\tSeries.rolling(window=10,center=False).mean()\n",
      "  app.launch_new_instance()\n",
      "C:\\ProgramData\\Anaconda3\\lib\\site-packages\\ipykernel\\__main__.py:4: FutureWarning: pd.rolling_std is deprecated for Series and will be removed in a future version, replace with \n",
      "\tSeries.rolling(window=10,center=False).std()\n"
     ]
    },
    {
     "data": {
      "image/png": "[encoded data removed]",
      "text/plain": [
       "<matplotlib.figure.Figure at 0x296cb1a8d68>"
      ]
     },
     "metadata": {},
     "output_type": "display_data"
    },
    {
     "name": "stdout",
     "output_type": "stream",
     "text": [
      "Results of Dickey-Fuller Test\n",
      "Test Statistic                  -2.151815\n",
      "p-value                          0.224196\n",
      "#Lags Used                       0.000000\n",
      "Number of Observations Used    247.000000\n",
      "Critical Value (1%)             -3.457105\n",
      "Critical Value (5%)             -2.873314\n",
      "Critical Value (10%)            -2.573044\n",
      "dtype: float64\n"
     ]
    }
   ],
   "source": [
    "window(nifty_it_index)"
   ]
  },
  {
   "cell_type": "code",
   "execution_count": 77,
   "metadata": {
    "collapsed": true
   },
   "outputs": [],
   "source": [
    "def window(timeseries):\n",
    "    \n",
    "    mean = pd.rolling_mean(timeseries, window=75)\n",
    "    std = pd.rolling_std(timeseries, window=75)\n",
    "\n",
    "    orig = plt.plot(timeseries, color='blue',label='Original')\n",
    "    mean = plt.plot(mean, color='red', label='Rolling Mean')\n",
    "    std = plt.plot(std, color='black', label = 'Rolling Std')\n",
    "    plt.legend(loc='best')\n",
    "    plt.title('Rolling Mean & Standard Deviation')\n",
    "    plt.show(block=False)\n",
    "    \n",
    "    print ('Results of Dickey-Fuller Test')\n",
    "    values = adfuller(timeseries, autolag='AIC')\n",
    "    output = pd.Series(values[0:4], index=['Test Statistic','p-value','#Lags Used','Number of Observations Used'])\n",
    "    for key,value in values[4].items():\n",
    "        output['Critical Value (%s)'%key] = value\n",
    "    print(output)"
   ]
  },
  {
   "cell_type": "code",
   "execution_count": 78,
   "metadata": {
    "collapsed": false
   },
   "outputs": [
    {
     "name": "stderr",
     "output_type": "stream",
     "text": [
      "C:\\ProgramData\\Anaconda3\\lib\\site-packages\\ipykernel\\__main__.py:3: FutureWarning: pd.rolling_mean is deprecated for Series and will be removed in a future version, replace with \n",
      "\tSeries.rolling(window=75,center=False).mean()\n",
      "  app.launch_new_instance()\n",
      "C:\\ProgramData\\Anaconda3\\lib\\site-packages\\ipykernel\\__main__.py:4: FutureWarning: pd.rolling_std is deprecated for Series and will be removed in a future version, replace with \n",
      "\tSeries.rolling(window=75,center=False).std()\n"
     ]
    },
    {
     "data": {
      "image/png": "[encoded data removed]",
      "text/plain": [
       "<matplotlib.figure.Figure at 0x296cb07cd68>"
      ]
     },
     "metadata": {},
     "output_type": "display_data"
    },
    {
     "name": "stdout",
     "output_type": "stream",
     "text": [
      "Results of Dickey-Fuller Test\n",
      "Test Statistic                  -2.151815\n",
      "p-value                          0.224196\n",
      "#Lags Used                       0.000000\n",
      "Number of Observations Used    247.000000\n",
      "Critical Value (1%)             -3.457105\n",
      "Critical Value (5%)             -2.873314\n",
      "Critical Value (10%)            -2.573044\n",
      "dtype: float64\n"
     ]
    }
   ],
   "source": [
    "window(nifty_it_index)"
   ]
  },
  {
   "cell_type": "markdown",
   "metadata": {},
   "source": [
    "### Part-1, 3.1"
   ]
  },
  {
   "cell_type": "code",
   "execution_count": 80,
   "metadata": {
    "collapsed": false
   },
   "outputs": [
    {
     "data": {
      "text/plain": [
       "498"
      ]
     },
     "execution_count": 80,
     "metadata": {},
     "output_type": "execute_result"
    }
   ],
   "source": [
    "len(data_stock[\"Total Traded Quantity\"])"
   ]
  },
  {
   "cell_type": "code",
   "execution_count": 81,
   "metadata": {
    "collapsed": true
   },
   "outputs": [],
   "source": [
    "outcome_bool = []\n",
    "List1 = list(data_stock[\"Total Traded Quantity\"])\n",
    "\n",
    "i = List1[1]\n",
    "i = i +1\n",
    "j = i + 1\n",
    "\n",
    "\n",
    "count = 0\n",
    "while count <= 498:\n",
    "    if ((j-i)*0.1) >i:\n",
    "        outcome_bool.append(0)\n",
    "    elif ((j-i)*0.1) < i:\n",
    "        outcome_bool.append(1)\n",
    "    count += 1"
   ]
  },
  {
   "cell_type": "code",
   "execution_count": 82,
   "metadata": {
    "collapsed": true
   },
   "outputs": [],
   "source": [
    "outcome_bool = pd.DataFrame(outcome_bool)"
   ]
  },
  {
   "cell_type": "code",
   "execution_count": 83,
   "metadata": {
    "collapsed": true
   },
   "outputs": [],
   "source": [
    "data_stock['Volume_Shock'] = outcome_bool"
   ]
  },
  {
   "cell_type": "code",
   "execution_count": 84,
   "metadata": {
    "collapsed": false
   },
   "outputs": [
    {
     "data": {
      "text/html": [
       "<div>\n",
       "<table border=\"1\" class=\"dataframe\">\n",
       "  <thead>\n",
       "    <tr style=\"text-align: right;\">\n",
       "      <th></th>\n",
       "      <th>Symbol</th>\n",
       "      <th>Series</th>\n",
       "      <th>Date</th>\n",
       "      <th>Prev Close</th>\n",
       "      <th>Open Price</th>\n",
       "      <th>High Price</th>\n",
       "      <th>Low Price</th>\n",
       "      <th>Last Price</th>\n",
       "      <th>Close Price</th>\n",
       "      <th>Average Price</th>\n",
       "      <th>Total Traded Quantity</th>\n",
       "      <th>Turnover</th>\n",
       "      <th>No. of Trades</th>\n",
       "      <th>Deliverable Qty</th>\n",
       "      <th>% Dly Qt to Traded Qty</th>\n",
       "      <th>week_year</th>\n",
       "      <th>Volume_Shock</th>\n",
       "    </tr>\n",
       "  </thead>\n",
       "  <tbody>\n",
       "    <tr>\n",
       "      <th>0</th>\n",
       "      <td>TCS</td>\n",
       "      <td>EQ</td>\n",
       "      <td>2015-01-01</td>\n",
       "      <td>2558.25</td>\n",
       "      <td>2567.0</td>\n",
       "      <td>2567.00</td>\n",
       "      <td>2541.00</td>\n",
       "      <td>2550.0</td>\n",
       "      <td>2545.55</td>\n",
       "      <td>2548.51</td>\n",
       "      <td>183415</td>\n",
       "      <td>4.674345e+08</td>\n",
       "      <td>8002</td>\n",
       "      <td>52870</td>\n",
       "      <td>28.83</td>\n",
       "      <td>week4</td>\n",
       "      <td>1</td>\n",
       "    </tr>\n",
       "    <tr>\n",
       "      <th>1</th>\n",
       "      <td>TCS</td>\n",
       "      <td>EQ</td>\n",
       "      <td>2015-01-02</td>\n",
       "      <td>2545.55</td>\n",
       "      <td>2551.0</td>\n",
       "      <td>2590.95</td>\n",
       "      <td>2550.60</td>\n",
       "      <td>2588.4</td>\n",
       "      <td>2579.45</td>\n",
       "      <td>2568.19</td>\n",
       "      <td>462870</td>\n",
       "      <td>1.188740e+09</td>\n",
       "      <td>27585</td>\n",
       "      <td>309350</td>\n",
       "      <td>66.83</td>\n",
       "      <td>week4</td>\n",
       "      <td>1</td>\n",
       "    </tr>\n",
       "    <tr>\n",
       "      <th>2</th>\n",
       "      <td>TCS</td>\n",
       "      <td>EQ</td>\n",
       "      <td>2015-01-05</td>\n",
       "      <td>2579.45</td>\n",
       "      <td>2581.0</td>\n",
       "      <td>2599.90</td>\n",
       "      <td>2524.65</td>\n",
       "      <td>2538.1</td>\n",
       "      <td>2540.25</td>\n",
       "      <td>2563.94</td>\n",
       "      <td>877121</td>\n",
       "      <td>2.248886e+09</td>\n",
       "      <td>43234</td>\n",
       "      <td>456728</td>\n",
       "      <td>52.07</td>\n",
       "      <td>week4</td>\n",
       "      <td>1</td>\n",
       "    </tr>\n",
       "  </tbody>\n",
       "</table>\n",
       "</div>"
      ],
      "text/plain": [
       "  Symbol Series       Date  Prev Close  Open Price  High Price  Low Price  \\\n",
       "0    TCS     EQ 2015-01-01     2558.25      2567.0     2567.00    2541.00   \n",
       "1    TCS     EQ 2015-01-02     2545.55      2551.0     2590.95    2550.60   \n",
       "2    TCS     EQ 2015-01-05     2579.45      2581.0     2599.90    2524.65   \n",
       "\n",
       "   Last Price  Close Price  Average Price  Total Traded Quantity  \\\n",
       "0      2550.0      2545.55        2548.51                 183415   \n",
       "1      2588.4      2579.45        2568.19                 462870   \n",
       "2      2538.1      2540.25        2563.94                 877121   \n",
       "\n",
       "       Turnover  No. of Trades  Deliverable Qty  % Dly Qt to Traded Qty  \\\n",
       "0  4.674345e+08           8002            52870                   28.83   \n",
       "1  1.188740e+09          27585           309350                   66.83   \n",
       "2  2.248886e+09          43234           456728                   52.07   \n",
       "\n",
       "  week_year  Volume_Shock  \n",
       "0     week4             1  \n",
       "1     week4             1  \n",
       "2     week4             1  "
      ]
     },
     "execution_count": 84,
     "metadata": {},
     "output_type": "execute_result"
    }
   ],
   "source": [
    "data_stock.head(3)"
   ]
  },
  {
   "cell_type": "code",
   "execution_count": 85,
   "metadata": {
    "collapsed": false
   },
   "outputs": [
    {
     "data": {
      "text/plain": [
       "248"
      ]
     },
     "execution_count": 85,
     "metadata": {},
     "output_type": "execute_result"
    }
   ],
   "source": [
    "len(data_index[\"Shares Traded\"])"
   ]
  },
  {
   "cell_type": "code",
   "execution_count": 89,
   "metadata": {
    "collapsed": false
   },
   "outputs": [],
   "source": [
    "outcome_bool = []\n",
    "List1 = list(data_index[\"Shares Traded\"])\n",
    "\n",
    "i = List1[1]\n",
    "i = i +1\n",
    "j = i + 1\n",
    "\n",
    "\n",
    "count = 0\n",
    "while count <= 247:\n",
    "    if ((j-i)*0.1) >i:\n",
    "        outcome_bool.append(0)\n",
    "    elif ((j-i)*0.1) < i:\n",
    "        outcome_bool.append(1)\n",
    "    count += 1"
   ]
  },
  {
   "cell_type": "code",
   "execution_count": 90,
   "metadata": {
    "collapsed": true
   },
   "outputs": [],
   "source": [
    "data_index['Volume_Shock'] = outcome_bool"
   ]
  },
  {
   "cell_type": "code",
   "execution_count": 91,
   "metadata": {
    "collapsed": false
   },
   "outputs": [
    {
     "data": {
      "text/html": [
       "<div>\n",
       "<table border=\"1\" class=\"dataframe\">\n",
       "  <thead>\n",
       "    <tr style=\"text-align: right;\">\n",
       "      <th></th>\n",
       "      <th>Date</th>\n",
       "      <th>Open</th>\n",
       "      <th>High</th>\n",
       "      <th>Low</th>\n",
       "      <th>Close</th>\n",
       "      <th>Shares Traded</th>\n",
       "      <th>Turnover (Rs. Cr)</th>\n",
       "      <th>week_year</th>\n",
       "      <th>Volume_Shock</th>\n",
       "    </tr>\n",
       "  </thead>\n",
       "  <tbody>\n",
       "    <tr>\n",
       "      <th>0</th>\n",
       "      <td>2015-01-01</td>\n",
       "      <td>11214.80</td>\n",
       "      <td>11235.75</td>\n",
       "      <td>11166.35</td>\n",
       "      <td>11215.70</td>\n",
       "      <td>4246150</td>\n",
       "      <td>357.51</td>\n",
       "      <td>week4</td>\n",
       "      <td>1</td>\n",
       "    </tr>\n",
       "    <tr>\n",
       "      <th>1</th>\n",
       "      <td>2015-01-02</td>\n",
       "      <td>11214.65</td>\n",
       "      <td>11399.10</td>\n",
       "      <td>11214.65</td>\n",
       "      <td>11372.10</td>\n",
       "      <td>10004862</td>\n",
       "      <td>964.56</td>\n",
       "      <td>week4</td>\n",
       "      <td>1</td>\n",
       "    </tr>\n",
       "    <tr>\n",
       "      <th>2</th>\n",
       "      <td>2015-01-05</td>\n",
       "      <td>11369.35</td>\n",
       "      <td>11433.75</td>\n",
       "      <td>11186.95</td>\n",
       "      <td>11248.55</td>\n",
       "      <td>8858018</td>\n",
       "      <td>1059.00</td>\n",
       "      <td>week4</td>\n",
       "      <td>1</td>\n",
       "    </tr>\n",
       "    <tr>\n",
       "      <th>3</th>\n",
       "      <td>2015-01-06</td>\n",
       "      <td>11186.10</td>\n",
       "      <td>11186.10</td>\n",
       "      <td>10909.00</td>\n",
       "      <td>10959.90</td>\n",
       "      <td>12515739</td>\n",
       "      <td>1364.50</td>\n",
       "      <td>week4</td>\n",
       "      <td>1</td>\n",
       "    </tr>\n",
       "    <tr>\n",
       "      <th>4</th>\n",
       "      <td>2015-01-07</td>\n",
       "      <td>11013.20</td>\n",
       "      <td>11042.35</td>\n",
       "      <td>10889.55</td>\n",
       "      <td>10916.00</td>\n",
       "      <td>10976356</td>\n",
       "      <td>1203.44</td>\n",
       "      <td>week4</td>\n",
       "      <td>1</td>\n",
       "    </tr>\n",
       "  </tbody>\n",
       "</table>\n",
       "</div>"
      ],
      "text/plain": [
       "        Date      Open      High       Low     Close  Shares Traded  \\\n",
       "0 2015-01-01  11214.80  11235.75  11166.35  11215.70        4246150   \n",
       "1 2015-01-02  11214.65  11399.10  11214.65  11372.10       10004862   \n",
       "2 2015-01-05  11369.35  11433.75  11186.95  11248.55        8858018   \n",
       "3 2015-01-06  11186.10  11186.10  10909.00  10959.90       12515739   \n",
       "4 2015-01-07  11013.20  11042.35  10889.55  10916.00       10976356   \n",
       "\n",
       "   Turnover (Rs. Cr) week_year  Volume_Shock  \n",
       "0             357.51     week4             1  \n",
       "1             964.56     week4             1  \n",
       "2            1059.00     week4             1  \n",
       "3            1364.50     week4             1  \n",
       "4            1203.44     week4             1  "
      ]
     },
     "execution_count": 91,
     "metadata": {},
     "output_type": "execute_result"
    }
   ],
   "source": [
    "data_index.head()"
   ]
  },
  {
   "cell_type": "code",
   "execution_count": 92,
   "metadata": {
    "collapsed": false
   },
   "outputs": [
    {
     "data": {
      "text/plain": [
       "Date                 248\n",
       "Open                 248\n",
       "High                 248\n",
       "Low                  248\n",
       "Close                248\n",
       "Shares Traded        248\n",
       "Turnover (Rs. Cr)    248\n",
       "week_year            248\n",
       "Volume_Shock         248\n",
       "dtype: int64"
      ]
     },
     "execution_count": 92,
     "metadata": {},
     "output_type": "execute_result"
    }
   ],
   "source": [
    "data_index.count()"
   ]
  },
  {
   "cell_type": "markdown",
   "metadata": {},
   "source": [
    "### Part-1, 3.2"
   ]
  },
  {
   "cell_type": "code",
   "execution_count": 93,
   "metadata": {
    "collapsed": true
   },
   "outputs": [],
   "source": [
    "list2 = []\n",
    "list1 = list(_tcs_infy[\"Close Price\"])\n",
    "\n",
    "i = list1[0]\n",
    "i = i +1\n",
    "j = i + 1\n",
    "\n",
    "\n",
    "count = 0\n",
    "while count <= 498:\n",
    "    if (((j-i)/j)*100) >2:\n",
    "        list2.append(0)\n",
    "    elif (((j-i)/j)*100) < 2:\n",
    "        list2.append(1)\n",
    "    count += 1"
   ]
  },
  {
   "cell_type": "code",
   "execution_count": 94,
   "metadata": {
    "collapsed": true
   },
   "outputs": [],
   "source": [
    "list2 = pd.DataFrame(list2)"
   ]
  },
  {
   "cell_type": "code",
   "execution_count": 95,
   "metadata": {
    "collapsed": true
   },
   "outputs": [],
   "source": [
    "data_stock['price_Shock'] = list2"
   ]
  },
  {
   "cell_type": "code",
   "execution_count": 96,
   "metadata": {
    "collapsed": false
   },
   "outputs": [
    {
     "data": {
      "text/html": [
       "<div>\n",
       "<table border=\"1\" class=\"dataframe\">\n",
       "  <thead>\n",
       "    <tr style=\"text-align: right;\">\n",
       "      <th></th>\n",
       "      <th>Symbol</th>\n",
       "      <th>Series</th>\n",
       "      <th>Date</th>\n",
       "      <th>Prev Close</th>\n",
       "      <th>Open Price</th>\n",
       "      <th>High Price</th>\n",
       "      <th>Low Price</th>\n",
       "      <th>Last Price</th>\n",
       "      <th>Close Price</th>\n",
       "      <th>Average Price</th>\n",
       "      <th>Total Traded Quantity</th>\n",
       "      <th>Turnover</th>\n",
       "      <th>No. of Trades</th>\n",
       "      <th>Deliverable Qty</th>\n",
       "      <th>% Dly Qt to Traded Qty</th>\n",
       "      <th>week_year</th>\n",
       "      <th>Volume_Shock</th>\n",
       "      <th>price_Shock</th>\n",
       "    </tr>\n",
       "  </thead>\n",
       "  <tbody>\n",
       "    <tr>\n",
       "      <th>0</th>\n",
       "      <td>TCS</td>\n",
       "      <td>EQ</td>\n",
       "      <td>2015-01-01</td>\n",
       "      <td>2558.25</td>\n",
       "      <td>2567.0</td>\n",
       "      <td>2567.00</td>\n",
       "      <td>2541.00</td>\n",
       "      <td>2550.00</td>\n",
       "      <td>2545.55</td>\n",
       "      <td>2548.51</td>\n",
       "      <td>183415</td>\n",
       "      <td>4.674345e+08</td>\n",
       "      <td>8002</td>\n",
       "      <td>52870</td>\n",
       "      <td>28.83</td>\n",
       "      <td>week4</td>\n",
       "      <td>1</td>\n",
       "      <td>1</td>\n",
       "    </tr>\n",
       "    <tr>\n",
       "      <th>1</th>\n",
       "      <td>TCS</td>\n",
       "      <td>EQ</td>\n",
       "      <td>2015-01-02</td>\n",
       "      <td>2545.55</td>\n",
       "      <td>2551.0</td>\n",
       "      <td>2590.95</td>\n",
       "      <td>2550.60</td>\n",
       "      <td>2588.40</td>\n",
       "      <td>2579.45</td>\n",
       "      <td>2568.19</td>\n",
       "      <td>462870</td>\n",
       "      <td>1.188740e+09</td>\n",
       "      <td>27585</td>\n",
       "      <td>309350</td>\n",
       "      <td>66.83</td>\n",
       "      <td>week4</td>\n",
       "      <td>1</td>\n",
       "      <td>1</td>\n",
       "    </tr>\n",
       "    <tr>\n",
       "      <th>2</th>\n",
       "      <td>TCS</td>\n",
       "      <td>EQ</td>\n",
       "      <td>2015-01-05</td>\n",
       "      <td>2579.45</td>\n",
       "      <td>2581.0</td>\n",
       "      <td>2599.90</td>\n",
       "      <td>2524.65</td>\n",
       "      <td>2538.10</td>\n",
       "      <td>2540.25</td>\n",
       "      <td>2563.94</td>\n",
       "      <td>877121</td>\n",
       "      <td>2.248886e+09</td>\n",
       "      <td>43234</td>\n",
       "      <td>456728</td>\n",
       "      <td>52.07</td>\n",
       "      <td>week4</td>\n",
       "      <td>1</td>\n",
       "      <td>1</td>\n",
       "    </tr>\n",
       "    <tr>\n",
       "      <th>3</th>\n",
       "      <td>TCS</td>\n",
       "      <td>EQ</td>\n",
       "      <td>2015-01-06</td>\n",
       "      <td>2540.25</td>\n",
       "      <td>2529.1</td>\n",
       "      <td>2529.10</td>\n",
       "      <td>2440.00</td>\n",
       "      <td>2450.05</td>\n",
       "      <td>2446.60</td>\n",
       "      <td>2466.90</td>\n",
       "      <td>1211892</td>\n",
       "      <td>2.989615e+09</td>\n",
       "      <td>84503</td>\n",
       "      <td>714306</td>\n",
       "      <td>58.94</td>\n",
       "      <td>week4</td>\n",
       "      <td>1</td>\n",
       "      <td>1</td>\n",
       "    </tr>\n",
       "    <tr>\n",
       "      <th>4</th>\n",
       "      <td>TCS</td>\n",
       "      <td>EQ</td>\n",
       "      <td>2015-01-07</td>\n",
       "      <td>2446.60</td>\n",
       "      <td>2470.0</td>\n",
       "      <td>2479.15</td>\n",
       "      <td>2407.45</td>\n",
       "      <td>2426.90</td>\n",
       "      <td>2417.70</td>\n",
       "      <td>2433.96</td>\n",
       "      <td>1318166</td>\n",
       "      <td>3.208362e+09</td>\n",
       "      <td>101741</td>\n",
       "      <td>886368</td>\n",
       "      <td>67.24</td>\n",
       "      <td>week4</td>\n",
       "      <td>1</td>\n",
       "      <td>1</td>\n",
       "    </tr>\n",
       "  </tbody>\n",
       "</table>\n",
       "</div>"
      ],
      "text/plain": [
       "  Symbol Series       Date  Prev Close  Open Price  High Price  Low Price  \\\n",
       "0    TCS     EQ 2015-01-01     2558.25      2567.0     2567.00    2541.00   \n",
       "1    TCS     EQ 2015-01-02     2545.55      2551.0     2590.95    2550.60   \n",
       "2    TCS     EQ 2015-01-05     2579.45      2581.0     2599.90    2524.65   \n",
       "3    TCS     EQ 2015-01-06     2540.25      2529.1     2529.10    2440.00   \n",
       "4    TCS     EQ 2015-01-07     2446.60      2470.0     2479.15    2407.45   \n",
       "\n",
       "   Last Price  Close Price  Average Price  Total Traded Quantity  \\\n",
       "0     2550.00      2545.55        2548.51                 183415   \n",
       "1     2588.40      2579.45        2568.19                 462870   \n",
       "2     2538.10      2540.25        2563.94                 877121   \n",
       "3     2450.05      2446.60        2466.90                1211892   \n",
       "4     2426.90      2417.70        2433.96                1318166   \n",
       "\n",
       "       Turnover  No. of Trades  Deliverable Qty  % Dly Qt to Traded Qty  \\\n",
       "0  4.674345e+08           8002            52870                   28.83   \n",
       "1  1.188740e+09          27585           309350                   66.83   \n",
       "2  2.248886e+09          43234           456728                   52.07   \n",
       "3  2.989615e+09          84503           714306                   58.94   \n",
       "4  3.208362e+09         101741           886368                   67.24   \n",
       "\n",
       "  week_year  Volume_Shock  price_Shock  \n",
       "0     week4             1            1  \n",
       "1     week4             1            1  \n",
       "2     week4             1            1  \n",
       "3     week4             1            1  \n",
       "4     week4             1            1  "
      ]
     },
     "execution_count": 96,
     "metadata": {},
     "output_type": "execute_result"
    }
   ],
   "source": [
    "data_stock.head()"
   ]
  },
  {
   "cell_type": "code",
   "execution_count": 97,
   "metadata": {
    "collapsed": true
   },
   "outputs": [],
   "source": [
    "list2 = []\n",
    "list1 = list(data_index[\"Close\"])\n",
    "\n",
    "i = list1[0]\n",
    "i = i +1\n",
    "j = i + 1\n",
    "\n",
    "\n",
    "count = 0\n",
    "while count <= 498:\n",
    "    if (((j-i)/j)*100) >2:\n",
    "        list2.append(0)\n",
    "    elif (((j-i)/j)*100) < 2:\n",
    "        list2.append(1)\n",
    "    count += 1"
   ]
  },
  {
   "cell_type": "code",
   "execution_count": 98,
   "metadata": {
    "collapsed": true
   },
   "outputs": [],
   "source": [
    "list2 = pd.DataFrame(list2)"
   ]
  },
  {
   "cell_type": "code",
   "execution_count": 99,
   "metadata": {
    "collapsed": true
   },
   "outputs": [],
   "source": [
    "data_index['price_Shock'] = list2"
   ]
  },
  {
   "cell_type": "code",
   "execution_count": 100,
   "metadata": {
    "collapsed": false
   },
   "outputs": [
    {
     "data": {
      "text/html": [
       "<div>\n",
       "<table border=\"1\" class=\"dataframe\">\n",
       "  <thead>\n",
       "    <tr style=\"text-align: right;\">\n",
       "      <th></th>\n",
       "      <th>Date</th>\n",
       "      <th>Open</th>\n",
       "      <th>High</th>\n",
       "      <th>Low</th>\n",
       "      <th>Close</th>\n",
       "      <th>Shares Traded</th>\n",
       "      <th>Turnover (Rs. Cr)</th>\n",
       "      <th>week_year</th>\n",
       "      <th>Volume_Shock</th>\n",
       "      <th>price_Shock</th>\n",
       "    </tr>\n",
       "  </thead>\n",
       "  <tbody>\n",
       "    <tr>\n",
       "      <th>0</th>\n",
       "      <td>2015-01-01</td>\n",
       "      <td>11214.80</td>\n",
       "      <td>11235.75</td>\n",
       "      <td>11166.35</td>\n",
       "      <td>11215.70</td>\n",
       "      <td>4246150</td>\n",
       "      <td>357.51</td>\n",
       "      <td>week4</td>\n",
       "      <td>1</td>\n",
       "      <td>1</td>\n",
       "    </tr>\n",
       "    <tr>\n",
       "      <th>1</th>\n",
       "      <td>2015-01-02</td>\n",
       "      <td>11214.65</td>\n",
       "      <td>11399.10</td>\n",
       "      <td>11214.65</td>\n",
       "      <td>11372.10</td>\n",
       "      <td>10004862</td>\n",
       "      <td>964.56</td>\n",
       "      <td>week4</td>\n",
       "      <td>1</td>\n",
       "      <td>1</td>\n",
       "    </tr>\n",
       "    <tr>\n",
       "      <th>2</th>\n",
       "      <td>2015-01-05</td>\n",
       "      <td>11369.35</td>\n",
       "      <td>11433.75</td>\n",
       "      <td>11186.95</td>\n",
       "      <td>11248.55</td>\n",
       "      <td>8858018</td>\n",
       "      <td>1059.00</td>\n",
       "      <td>week4</td>\n",
       "      <td>1</td>\n",
       "      <td>1</td>\n",
       "    </tr>\n",
       "    <tr>\n",
       "      <th>3</th>\n",
       "      <td>2015-01-06</td>\n",
       "      <td>11186.10</td>\n",
       "      <td>11186.10</td>\n",
       "      <td>10909.00</td>\n",
       "      <td>10959.90</td>\n",
       "      <td>12515739</td>\n",
       "      <td>1364.50</td>\n",
       "      <td>week4</td>\n",
       "      <td>1</td>\n",
       "      <td>1</td>\n",
       "    </tr>\n",
       "    <tr>\n",
       "      <th>4</th>\n",
       "      <td>2015-01-07</td>\n",
       "      <td>11013.20</td>\n",
       "      <td>11042.35</td>\n",
       "      <td>10889.55</td>\n",
       "      <td>10916.00</td>\n",
       "      <td>10976356</td>\n",
       "      <td>1203.44</td>\n",
       "      <td>week4</td>\n",
       "      <td>1</td>\n",
       "      <td>1</td>\n",
       "    </tr>\n",
       "  </tbody>\n",
       "</table>\n",
       "</div>"
      ],
      "text/plain": [
       "        Date      Open      High       Low     Close  Shares Traded  \\\n",
       "0 2015-01-01  11214.80  11235.75  11166.35  11215.70        4246150   \n",
       "1 2015-01-02  11214.65  11399.10  11214.65  11372.10       10004862   \n",
       "2 2015-01-05  11369.35  11433.75  11186.95  11248.55        8858018   \n",
       "3 2015-01-06  11186.10  11186.10  10909.00  10959.90       12515739   \n",
       "4 2015-01-07  11013.20  11042.35  10889.55  10916.00       10976356   \n",
       "\n",
       "   Turnover (Rs. Cr) week_year  Volume_Shock  price_Shock  \n",
       "0             357.51     week4             1            1  \n",
       "1             964.56     week4             1            1  \n",
       "2            1059.00     week4             1            1  \n",
       "3            1364.50     week4             1            1  \n",
       "4            1203.44     week4             1            1  "
      ]
     },
     "execution_count": 100,
     "metadata": {},
     "output_type": "execute_result"
    }
   ],
   "source": [
    "data_index.head()"
   ]
  },
  {
   "cell_type": "markdown",
   "metadata": {},
   "source": [
    "### Part-1, 3.3"
   ]
  },
  {
   "cell_type": "code",
   "execution_count": 101,
   "metadata": {
    "collapsed": true
   },
   "outputs": [],
   "source": [
    "list2 = pd.DataFrame(list2)"
   ]
  },
  {
   "cell_type": "code",
   "execution_count": 102,
   "metadata": {
    "collapsed": true
   },
   "outputs": [],
   "source": [
    "data_stock['Pricing black swan'] = list2"
   ]
  },
  {
   "cell_type": "code",
   "execution_count": 103,
   "metadata": {
    "collapsed": false
   },
   "outputs": [
    {
     "data": {
      "text/html": [
       "<div>\n",
       "<table border=\"1\" class=\"dataframe\">\n",
       "  <thead>\n",
       "    <tr style=\"text-align: right;\">\n",
       "      <th></th>\n",
       "      <th>Symbol</th>\n",
       "      <th>Series</th>\n",
       "      <th>Date</th>\n",
       "      <th>Prev Close</th>\n",
       "      <th>Open Price</th>\n",
       "      <th>High Price</th>\n",
       "      <th>Low Price</th>\n",
       "      <th>Last Price</th>\n",
       "      <th>Close Price</th>\n",
       "      <th>Average Price</th>\n",
       "      <th>Total Traded Quantity</th>\n",
       "      <th>Turnover</th>\n",
       "      <th>No. of Trades</th>\n",
       "      <th>Deliverable Qty</th>\n",
       "      <th>% Dly Qt to Traded Qty</th>\n",
       "      <th>week_year</th>\n",
       "      <th>Volume_Shock</th>\n",
       "      <th>price_Shock</th>\n",
       "      <th>Pricing black swan</th>\n",
       "    </tr>\n",
       "  </thead>\n",
       "  <tbody>\n",
       "    <tr>\n",
       "      <th>0</th>\n",
       "      <td>TCS</td>\n",
       "      <td>EQ</td>\n",
       "      <td>2015-01-01</td>\n",
       "      <td>2558.25</td>\n",
       "      <td>2567.0</td>\n",
       "      <td>2567.00</td>\n",
       "      <td>2541.00</td>\n",
       "      <td>2550.00</td>\n",
       "      <td>2545.55</td>\n",
       "      <td>2548.51</td>\n",
       "      <td>183415</td>\n",
       "      <td>4.674345e+08</td>\n",
       "      <td>8002</td>\n",
       "      <td>52870</td>\n",
       "      <td>28.83</td>\n",
       "      <td>week4</td>\n",
       "      <td>1</td>\n",
       "      <td>1</td>\n",
       "      <td>1</td>\n",
       "    </tr>\n",
       "    <tr>\n",
       "      <th>1</th>\n",
       "      <td>TCS</td>\n",
       "      <td>EQ</td>\n",
       "      <td>2015-01-02</td>\n",
       "      <td>2545.55</td>\n",
       "      <td>2551.0</td>\n",
       "      <td>2590.95</td>\n",
       "      <td>2550.60</td>\n",
       "      <td>2588.40</td>\n",
       "      <td>2579.45</td>\n",
       "      <td>2568.19</td>\n",
       "      <td>462870</td>\n",
       "      <td>1.188740e+09</td>\n",
       "      <td>27585</td>\n",
       "      <td>309350</td>\n",
       "      <td>66.83</td>\n",
       "      <td>week4</td>\n",
       "      <td>1</td>\n",
       "      <td>1</td>\n",
       "      <td>1</td>\n",
       "    </tr>\n",
       "    <tr>\n",
       "      <th>2</th>\n",
       "      <td>TCS</td>\n",
       "      <td>EQ</td>\n",
       "      <td>2015-01-05</td>\n",
       "      <td>2579.45</td>\n",
       "      <td>2581.0</td>\n",
       "      <td>2599.90</td>\n",
       "      <td>2524.65</td>\n",
       "      <td>2538.10</td>\n",
       "      <td>2540.25</td>\n",
       "      <td>2563.94</td>\n",
       "      <td>877121</td>\n",
       "      <td>2.248886e+09</td>\n",
       "      <td>43234</td>\n",
       "      <td>456728</td>\n",
       "      <td>52.07</td>\n",
       "      <td>week4</td>\n",
       "      <td>1</td>\n",
       "      <td>1</td>\n",
       "      <td>1</td>\n",
       "    </tr>\n",
       "    <tr>\n",
       "      <th>3</th>\n",
       "      <td>TCS</td>\n",
       "      <td>EQ</td>\n",
       "      <td>2015-01-06</td>\n",
       "      <td>2540.25</td>\n",
       "      <td>2529.1</td>\n",
       "      <td>2529.10</td>\n",
       "      <td>2440.00</td>\n",
       "      <td>2450.05</td>\n",
       "      <td>2446.60</td>\n",
       "      <td>2466.90</td>\n",
       "      <td>1211892</td>\n",
       "      <td>2.989615e+09</td>\n",
       "      <td>84503</td>\n",
       "      <td>714306</td>\n",
       "      <td>58.94</td>\n",
       "      <td>week4</td>\n",
       "      <td>1</td>\n",
       "      <td>1</td>\n",
       "      <td>1</td>\n",
       "    </tr>\n",
       "    <tr>\n",
       "      <th>4</th>\n",
       "      <td>TCS</td>\n",
       "      <td>EQ</td>\n",
       "      <td>2015-01-07</td>\n",
       "      <td>2446.60</td>\n",
       "      <td>2470.0</td>\n",
       "      <td>2479.15</td>\n",
       "      <td>2407.45</td>\n",
       "      <td>2426.90</td>\n",
       "      <td>2417.70</td>\n",
       "      <td>2433.96</td>\n",
       "      <td>1318166</td>\n",
       "      <td>3.208362e+09</td>\n",
       "      <td>101741</td>\n",
       "      <td>886368</td>\n",
       "      <td>67.24</td>\n",
       "      <td>week4</td>\n",
       "      <td>1</td>\n",
       "      <td>1</td>\n",
       "      <td>1</td>\n",
       "    </tr>\n",
       "  </tbody>\n",
       "</table>\n",
       "</div>"
      ],
      "text/plain": [
       "  Symbol Series       Date  Prev Close  Open Price  High Price  Low Price  \\\n",
       "0    TCS     EQ 2015-01-01     2558.25      2567.0     2567.00    2541.00   \n",
       "1    TCS     EQ 2015-01-02     2545.55      2551.0     2590.95    2550.60   \n",
       "2    TCS     EQ 2015-01-05     2579.45      2581.0     2599.90    2524.65   \n",
       "3    TCS     EQ 2015-01-06     2540.25      2529.1     2529.10    2440.00   \n",
       "4    TCS     EQ 2015-01-07     2446.60      2470.0     2479.15    2407.45   \n",
       "\n",
       "   Last Price  Close Price  Average Price  Total Traded Quantity  \\\n",
       "0     2550.00      2545.55        2548.51                 183415   \n",
       "1     2588.40      2579.45        2568.19                 462870   \n",
       "2     2538.10      2540.25        2563.94                 877121   \n",
       "3     2450.05      2446.60        2466.90                1211892   \n",
       "4     2426.90      2417.70        2433.96                1318166   \n",
       "\n",
       "       Turnover  No. of Trades  Deliverable Qty  % Dly Qt to Traded Qty  \\\n",
       "0  4.674345e+08           8002            52870                   28.83   \n",
       "1  1.188740e+09          27585           309350                   66.83   \n",
       "2  2.248886e+09          43234           456728                   52.07   \n",
       "3  2.989615e+09          84503           714306                   58.94   \n",
       "4  3.208362e+09         101741           886368                   67.24   \n",
       "\n",
       "  week_year  Volume_Shock  price_Shock  Pricing black swan  \n",
       "0     week4             1            1                   1  \n",
       "1     week4             1            1                   1  \n",
       "2     week4             1            1                   1  \n",
       "3     week4             1            1                   1  \n",
       "4     week4             1            1                   1  "
      ]
     },
     "execution_count": 103,
     "metadata": {},
     "output_type": "execute_result"
    }
   ],
   "source": [
    "data_stock.head()"
   ]
  },
  {
   "cell_type": "code",
   "execution_count": 104,
   "metadata": {
    "collapsed": true
   },
   "outputs": [],
   "source": [
    "list2 = pd.DataFrame(list2)"
   ]
  },
  {
   "cell_type": "code",
   "execution_count": 105,
   "metadata": {
    "collapsed": true
   },
   "outputs": [],
   "source": [
    "data_index['Pricing black swan'] = list2"
   ]
  },
  {
   "cell_type": "code",
   "execution_count": 106,
   "metadata": {
    "collapsed": false
   },
   "outputs": [
    {
     "data": {
      "text/html": [
       "<div>\n",
       "<table border=\"1\" class=\"dataframe\">\n",
       "  <thead>\n",
       "    <tr style=\"text-align: right;\">\n",
       "      <th></th>\n",
       "      <th>Date</th>\n",
       "      <th>Open</th>\n",
       "      <th>High</th>\n",
       "      <th>Low</th>\n",
       "      <th>Close</th>\n",
       "      <th>Shares Traded</th>\n",
       "      <th>Turnover (Rs. Cr)</th>\n",
       "      <th>week_year</th>\n",
       "      <th>Volume_Shock</th>\n",
       "      <th>price_Shock</th>\n",
       "      <th>Pricing black swan</th>\n",
       "    </tr>\n",
       "  </thead>\n",
       "  <tbody>\n",
       "    <tr>\n",
       "      <th>0</th>\n",
       "      <td>2015-01-01</td>\n",
       "      <td>11214.80</td>\n",
       "      <td>11235.75</td>\n",
       "      <td>11166.35</td>\n",
       "      <td>11215.70</td>\n",
       "      <td>4246150</td>\n",
       "      <td>357.51</td>\n",
       "      <td>week4</td>\n",
       "      <td>1</td>\n",
       "      <td>1</td>\n",
       "      <td>1</td>\n",
       "    </tr>\n",
       "    <tr>\n",
       "      <th>1</th>\n",
       "      <td>2015-01-02</td>\n",
       "      <td>11214.65</td>\n",
       "      <td>11399.10</td>\n",
       "      <td>11214.65</td>\n",
       "      <td>11372.10</td>\n",
       "      <td>10004862</td>\n",
       "      <td>964.56</td>\n",
       "      <td>week4</td>\n",
       "      <td>1</td>\n",
       "      <td>1</td>\n",
       "      <td>1</td>\n",
       "    </tr>\n",
       "    <tr>\n",
       "      <th>2</th>\n",
       "      <td>2015-01-05</td>\n",
       "      <td>11369.35</td>\n",
       "      <td>11433.75</td>\n",
       "      <td>11186.95</td>\n",
       "      <td>11248.55</td>\n",
       "      <td>8858018</td>\n",
       "      <td>1059.00</td>\n",
       "      <td>week4</td>\n",
       "      <td>1</td>\n",
       "      <td>1</td>\n",
       "      <td>1</td>\n",
       "    </tr>\n",
       "    <tr>\n",
       "      <th>3</th>\n",
       "      <td>2015-01-06</td>\n",
       "      <td>11186.10</td>\n",
       "      <td>11186.10</td>\n",
       "      <td>10909.00</td>\n",
       "      <td>10959.90</td>\n",
       "      <td>12515739</td>\n",
       "      <td>1364.50</td>\n",
       "      <td>week4</td>\n",
       "      <td>1</td>\n",
       "      <td>1</td>\n",
       "      <td>1</td>\n",
       "    </tr>\n",
       "    <tr>\n",
       "      <th>4</th>\n",
       "      <td>2015-01-07</td>\n",
       "      <td>11013.20</td>\n",
       "      <td>11042.35</td>\n",
       "      <td>10889.55</td>\n",
       "      <td>10916.00</td>\n",
       "      <td>10976356</td>\n",
       "      <td>1203.44</td>\n",
       "      <td>week4</td>\n",
       "      <td>1</td>\n",
       "      <td>1</td>\n",
       "      <td>1</td>\n",
       "    </tr>\n",
       "  </tbody>\n",
       "</table>\n",
       "</div>"
      ],
      "text/plain": [
       "        Date      Open      High       Low     Close  Shares Traded  \\\n",
       "0 2015-01-01  11214.80  11235.75  11166.35  11215.70        4246150   \n",
       "1 2015-01-02  11214.65  11399.10  11214.65  11372.10       10004862   \n",
       "2 2015-01-05  11369.35  11433.75  11186.95  11248.55        8858018   \n",
       "3 2015-01-06  11186.10  11186.10  10909.00  10959.90       12515739   \n",
       "4 2015-01-07  11013.20  11042.35  10889.55  10916.00       10976356   \n",
       "\n",
       "   Turnover (Rs. Cr) week_year  Volume_Shock  price_Shock  Pricing black swan  \n",
       "0             357.51     week4             1            1                   1  \n",
       "1             964.56     week4             1            1                   1  \n",
       "2            1059.00     week4             1            1                   1  \n",
       "3            1364.50     week4             1            1                   1  \n",
       "4            1203.44     week4             1            1                   1  "
      ]
     },
     "execution_count": 106,
     "metadata": {},
     "output_type": "execute_result"
    }
   ],
   "source": [
    "data_index.head()"
   ]
  },
  {
   "cell_type": "code",
   "execution_count": 143,
   "metadata": {
    "collapsed": true
   },
   "outputs": [],
   "source": [
    "from bokeh.plotting import figure, show, output_file, output_notebook\n",
    "from bokeh.palettes import Spectral11, colorblind, Inferno, BuGn, brewer\n",
    "from bokeh.models import HoverTool, value, LabelSet, Legend, ColumnDataSource,LinearColorMapper,BasicTicker, PrintfTickFormatter, ColorBar"
   ]
  },
  {
   "cell_type": "code",
   "execution_count": 142,
   "metadata": {
    "collapsed": true
   },
   "outputs": [],
   "source": [
    "tcs_stock_infy  = pd.read_csv(r\"C:\\Users\\ADITYA\\TCS&INFY.csv\")"
   ]
  },
  {
   "cell_type": "code",
   "execution_count": 145,
   "metadata": {
    "collapsed": false
   },
   "outputs": [
    {
     "data": {
      "text/html": [
       "<div>\n",
       "<table border=\"1\" class=\"dataframe\">\n",
       "  <thead>\n",
       "    <tr style=\"text-align: right;\">\n",
       "      <th></th>\n",
       "      <th>Unnamed: 0</th>\n",
       "      <th>Symbol</th>\n",
       "      <th>Series</th>\n",
       "      <th>Date</th>\n",
       "      <th>Prev Close</th>\n",
       "      <th>Open Price</th>\n",
       "      <th>High Price</th>\n",
       "      <th>Low Price</th>\n",
       "      <th>Last Price</th>\n",
       "      <th>Close Price</th>\n",
       "      <th>Average Price</th>\n",
       "      <th>Total Traded Quantity</th>\n",
       "      <th>Turnover</th>\n",
       "      <th>No. of Trades</th>\n",
       "      <th>Deliverable Qty</th>\n",
       "      <th>% Dly Qt to Traded Qty</th>\n",
       "      <th>week</th>\n",
       "      <th>week_num</th>\n",
       "    </tr>\n",
       "  </thead>\n",
       "  <tbody>\n",
       "    <tr>\n",
       "      <th>0</th>\n",
       "      <td>0</td>\n",
       "      <td>TCS</td>\n",
       "      <td>EQ</td>\n",
       "      <td>1/1/2015</td>\n",
       "      <td>2558.25</td>\n",
       "      <td>2567.0</td>\n",
       "      <td>2567.00</td>\n",
       "      <td>2541.00</td>\n",
       "      <td>2550.00</td>\n",
       "      <td>2545.55</td>\n",
       "      <td>2548.51</td>\n",
       "      <td>183415</td>\n",
       "      <td>4.674345e+08</td>\n",
       "      <td>8002</td>\n",
       "      <td>52870</td>\n",
       "      <td>28.83</td>\n",
       "      <td>week 4</td>\n",
       "      <td>4</td>\n",
       "    </tr>\n",
       "    <tr>\n",
       "      <th>1</th>\n",
       "      <td>1</td>\n",
       "      <td>TCS</td>\n",
       "      <td>EQ</td>\n",
       "      <td>1/2/2015</td>\n",
       "      <td>2545.55</td>\n",
       "      <td>2551.0</td>\n",
       "      <td>2590.95</td>\n",
       "      <td>2550.60</td>\n",
       "      <td>2588.40</td>\n",
       "      <td>2579.45</td>\n",
       "      <td>2568.19</td>\n",
       "      <td>462870</td>\n",
       "      <td>1.188740e+09</td>\n",
       "      <td>27585</td>\n",
       "      <td>309350</td>\n",
       "      <td>66.83</td>\n",
       "      <td>week 4</td>\n",
       "      <td>4</td>\n",
       "    </tr>\n",
       "    <tr>\n",
       "      <th>2</th>\n",
       "      <td>2</td>\n",
       "      <td>TCS</td>\n",
       "      <td>EQ</td>\n",
       "      <td>1/5/2015</td>\n",
       "      <td>2579.45</td>\n",
       "      <td>2581.0</td>\n",
       "      <td>2599.90</td>\n",
       "      <td>2524.65</td>\n",
       "      <td>2538.10</td>\n",
       "      <td>2540.25</td>\n",
       "      <td>2563.94</td>\n",
       "      <td>877121</td>\n",
       "      <td>2.248886e+09</td>\n",
       "      <td>43234</td>\n",
       "      <td>456728</td>\n",
       "      <td>52.07</td>\n",
       "      <td>week 4</td>\n",
       "      <td>4</td>\n",
       "    </tr>\n",
       "    <tr>\n",
       "      <th>3</th>\n",
       "      <td>3</td>\n",
       "      <td>TCS</td>\n",
       "      <td>EQ</td>\n",
       "      <td>1/6/2015</td>\n",
       "      <td>2540.25</td>\n",
       "      <td>2529.1</td>\n",
       "      <td>2529.10</td>\n",
       "      <td>2440.00</td>\n",
       "      <td>2450.05</td>\n",
       "      <td>2446.60</td>\n",
       "      <td>2466.90</td>\n",
       "      <td>1211892</td>\n",
       "      <td>2.989615e+09</td>\n",
       "      <td>84503</td>\n",
       "      <td>714306</td>\n",
       "      <td>58.94</td>\n",
       "      <td>week 4</td>\n",
       "      <td>4</td>\n",
       "    </tr>\n",
       "    <tr>\n",
       "      <th>4</th>\n",
       "      <td>4</td>\n",
       "      <td>TCS</td>\n",
       "      <td>EQ</td>\n",
       "      <td>1/7/2015</td>\n",
       "      <td>2446.60</td>\n",
       "      <td>2470.0</td>\n",
       "      <td>2479.15</td>\n",
       "      <td>2407.45</td>\n",
       "      <td>2426.90</td>\n",
       "      <td>2417.70</td>\n",
       "      <td>2433.96</td>\n",
       "      <td>1318166</td>\n",
       "      <td>3.208362e+09</td>\n",
       "      <td>101741</td>\n",
       "      <td>886368</td>\n",
       "      <td>67.24</td>\n",
       "      <td>week 4</td>\n",
       "      <td>4</td>\n",
       "    </tr>\n",
       "  </tbody>\n",
       "</table>\n",
       "</div>"
      ],
      "text/plain": [
       "   Unnamed: 0 Symbol Series      Date  Prev Close  Open Price  High Price  \\\n",
       "0           0    TCS     EQ  1/1/2015     2558.25      2567.0     2567.00   \n",
       "1           1    TCS     EQ  1/2/2015     2545.55      2551.0     2590.95   \n",
       "2           2    TCS     EQ  1/5/2015     2579.45      2581.0     2599.90   \n",
       "3           3    TCS     EQ  1/6/2015     2540.25      2529.1     2529.10   \n",
       "4           4    TCS     EQ  1/7/2015     2446.60      2470.0     2479.15   \n",
       "\n",
       "   Low Price  Last Price  Close Price  Average Price  Total Traded Quantity  \\\n",
       "0    2541.00     2550.00      2545.55        2548.51                 183415   \n",
       "1    2550.60     2588.40      2579.45        2568.19                 462870   \n",
       "2    2524.65     2538.10      2540.25        2563.94                 877121   \n",
       "3    2440.00     2450.05      2446.60        2466.90                1211892   \n",
       "4    2407.45     2426.90      2417.70        2433.96                1318166   \n",
       "\n",
       "       Turnover  No. of Trades  Deliverable Qty  % Dly Qt to Traded Qty  \\\n",
       "0  4.674345e+08           8002            52870                   28.83   \n",
       "1  1.188740e+09          27585           309350                   66.83   \n",
       "2  2.248886e+09          43234           456728                   52.07   \n",
       "3  2.989615e+09          84503           714306                   58.94   \n",
       "4  3.208362e+09         101741           886368                   67.24   \n",
       "\n",
       "     week  week_num  \n",
       "0  week 4         4  \n",
       "1  week 4         4  \n",
       "2  week 4         4  \n",
       "3  week 4         4  \n",
       "4  week 4         4  "
      ]
     },
     "execution_count": 145,
     "metadata": {},
     "output_type": "execute_result"
    }
   ],
   "source": [
    "tcs_stock_infy.head()"
   ]
  },
  {
   "cell_type": "code",
   "execution_count": 144,
   "metadata": {
    "collapsed": true
   },
   "outputs": [],
   "source": [
    "it_index_nifty = pd.read_csv(r\"C:\\Users\\ADITYA\\NIFTYIT.csv\")"
   ]
  },
  {
   "cell_type": "code",
   "execution_count": 146,
   "metadata": {
    "collapsed": false
   },
   "outputs": [
    {
     "data": {
      "text/html": [
       "<div>\n",
       "<table border=\"1\" class=\"dataframe\">\n",
       "  <thead>\n",
       "    <tr style=\"text-align: right;\">\n",
       "      <th></th>\n",
       "      <th>Unnamed: 0</th>\n",
       "      <th>Date</th>\n",
       "      <th>Open</th>\n",
       "      <th>High</th>\n",
       "      <th>Low</th>\n",
       "      <th>Close</th>\n",
       "      <th>Shares Traded</th>\n",
       "      <th>Turnover (Rs. Cr)</th>\n",
       "      <th>week</th>\n",
       "      <th>week_num</th>\n",
       "    </tr>\n",
       "  </thead>\n",
       "  <tbody>\n",
       "    <tr>\n",
       "      <th>0</th>\n",
       "      <td>247</td>\n",
       "      <td>12/31/2015</td>\n",
       "      <td>11113.00</td>\n",
       "      <td>11233.85</td>\n",
       "      <td>11113.00</td>\n",
       "      <td>11212.55</td>\n",
       "      <td>8197040</td>\n",
       "      <td>859.05</td>\n",
       "      <td>week 52</td>\n",
       "      <td>52</td>\n",
       "    </tr>\n",
       "    <tr>\n",
       "      <th>1</th>\n",
       "      <td>246</td>\n",
       "      <td>12/30/2015</td>\n",
       "      <td>11247.35</td>\n",
       "      <td>11263.60</td>\n",
       "      <td>11100.10</td>\n",
       "      <td>11117.60</td>\n",
       "      <td>6564991</td>\n",
       "      <td>707.19</td>\n",
       "      <td>week 52</td>\n",
       "      <td>52</td>\n",
       "    </tr>\n",
       "    <tr>\n",
       "      <th>2</th>\n",
       "      <td>245</td>\n",
       "      <td>12/29/2015</td>\n",
       "      <td>11257.05</td>\n",
       "      <td>11287.50</td>\n",
       "      <td>11206.60</td>\n",
       "      <td>11253.45</td>\n",
       "      <td>6024174</td>\n",
       "      <td>662.62</td>\n",
       "      <td>week 52</td>\n",
       "      <td>52</td>\n",
       "    </tr>\n",
       "    <tr>\n",
       "      <th>3</th>\n",
       "      <td>244</td>\n",
       "      <td>12/28/2015</td>\n",
       "      <td>11152.70</td>\n",
       "      <td>11303.05</td>\n",
       "      <td>11146.85</td>\n",
       "      <td>11271.80</td>\n",
       "      <td>8055590</td>\n",
       "      <td>1001.90</td>\n",
       "      <td>week 52</td>\n",
       "      <td>52</td>\n",
       "    </tr>\n",
       "    <tr>\n",
       "      <th>4</th>\n",
       "      <td>243</td>\n",
       "      <td>12/24/2015</td>\n",
       "      <td>11193.25</td>\n",
       "      <td>11197.50</td>\n",
       "      <td>11152.85</td>\n",
       "      <td>11184.90</td>\n",
       "      <td>2927864</td>\n",
       "      <td>318.27</td>\n",
       "      <td>week 52</td>\n",
       "      <td>52</td>\n",
       "    </tr>\n",
       "  </tbody>\n",
       "</table>\n",
       "</div>"
      ],
      "text/plain": [
       "   Unnamed: 0        Date      Open      High       Low     Close  \\\n",
       "0         247  12/31/2015  11113.00  11233.85  11113.00  11212.55   \n",
       "1         246  12/30/2015  11247.35  11263.60  11100.10  11117.60   \n",
       "2         245  12/29/2015  11257.05  11287.50  11206.60  11253.45   \n",
       "3         244  12/28/2015  11152.70  11303.05  11146.85  11271.80   \n",
       "4         243  12/24/2015  11193.25  11197.50  11152.85  11184.90   \n",
       "\n",
       "   Shares Traded  Turnover (Rs. Cr)     week  week_num  \n",
       "0        8197040             859.05  week 52        52  \n",
       "1        6564991             707.19  week 52        52  \n",
       "2        6024174             662.62  week 52        52  \n",
       "3        8055590            1001.90  week 52        52  \n",
       "4        2927864             318.27  week 52        52  "
      ]
     },
     "execution_count": 146,
     "metadata": {},
     "output_type": "execute_result"
    }
   ],
   "source": [
    "it_index_nifty.head()"
   ]
  },
  {
   "cell_type": "code",
   "execution_count": 147,
   "metadata": {
    "collapsed": false
   },
   "outputs": [],
   "source": [
    "command = \"hover,save,pan,box_zoom,reset,wheel_zoom,tap\"\n",
    "p = figure(plot_height=350,\n",
    "    title=\"timeseries plot of close prices of stocks\",\n",
    "    tools=command,\n",
    "    toolbar_location='above')\n",
    "\n",
    "p.vbar(x=tcs_stock_infy[\"week_num\"], top=tcs_stock_infy[\"Close Price\"], width=0.9)\n",
    "\n",
    "p.y_range.start = 0\n",
    "p.x_range.range_padding = 0.1\n",
    "p.xgrid.grid_line_color = None\n",
    "p.axis.minor_tick_line_color = None\n",
    "p.outline_line_color = None\n",
    "p.xaxis.axis_label = 'week_num'\n",
    "p.yaxis.axis_label = 'Close Prices'\n",
    "p.select_one(HoverTool).tooltips = [\n",
    "    ('week_num', '@x'),\n",
    "    ('Close Prices', '@top')\n",
    "    \n",
    "]\n",
    "show(p)"
   ]
  },
  {
   "cell_type": "code",
   "execution_count": 149,
   "metadata": {
    "collapsed": false
   },
   "outputs": [],
   "source": [
    "command = \"hover,save,pan,box_zoom,reset,wheel_zoom,tap\"\n",
    "p = figure(plot_height=350,\n",
    "    title=\"timeseries plot of close prices of stocks\",\n",
    "    tools=command,\n",
    "    toolbar_location='above')\n",
    "\n",
    "p.vbar(x=it_index_nifty[\"week_num\"], top=it_index_nifty[\"Close\"], width=0.9)\n",
    "\n",
    "p.y_range.start = 0\n",
    "p.x_range.range_padding = 0.1\n",
    "p.xgrid.grid_line_color = None\n",
    "p.axis.minor_tick_line_color = None\n",
    "p.outline_line_color = None\n",
    "p.xaxis.axis_label = 'week_num'\n",
    "p.yaxis.axis_label = 'Close Prices'\n",
    "p.select_one(HoverTool).tooltips = [\n",
    "    ('week_num', '@x'),\n",
    "    ('Close Prices', '@top')\n",
    "    \n",
    "]\n",
    "show(p)"
   ]
  },
  {
   "cell_type": "markdown",
   "metadata": {},
   "source": [
    "### Optional(modelling)"
   ]
  },
  {
   "cell_type": "code",
   "execution_count": 107,
   "metadata": {
    "collapsed": true
   },
   "outputs": [],
   "source": [
    "import pandas as pd\n",
    "import numpy as np\n",
    "import matplotlib.pyplot as plt\n",
    "import seaborn as sns\n",
    "%matplotlib inline"
   ]
  },
  {
   "cell_type": "code",
   "execution_count": 108,
   "metadata": {
    "collapsed": true
   },
   "outputs": [],
   "source": [
    "logic = pd.read_csv(r\"C:\\Users\\ADITYA\\Desktop\\Red Carpet\\TCS&INFY.csv\")"
   ]
  },
  {
   "cell_type": "code",
   "execution_count": 109,
   "metadata": {
    "collapsed": false
   },
   "outputs": [
    {
     "data": {
      "text/html": [
       "<div>\n",
       "<table border=\"1\" class=\"dataframe\">\n",
       "  <thead>\n",
       "    <tr style=\"text-align: right;\">\n",
       "      <th></th>\n",
       "      <th>Symbol</th>\n",
       "      <th>Series</th>\n",
       "      <th>Date</th>\n",
       "      <th>Prev Close</th>\n",
       "      <th>Open Price</th>\n",
       "      <th>High Price</th>\n",
       "      <th>Low Price</th>\n",
       "      <th>Last Price</th>\n",
       "      <th>Close Price</th>\n",
       "      <th>Average Price</th>\n",
       "      <th>Total Traded Quantity</th>\n",
       "      <th>Turnover</th>\n",
       "      <th>No. of Trades</th>\n",
       "      <th>Deliverable Qty</th>\n",
       "      <th>% Dly Qt to Traded Qty</th>\n",
       "    </tr>\n",
       "  </thead>\n",
       "  <tbody>\n",
       "    <tr>\n",
       "      <th>0</th>\n",
       "      <td>TCS</td>\n",
       "      <td>EQ</td>\n",
       "      <td>1-Jan-15</td>\n",
       "      <td>2558.25</td>\n",
       "      <td>2567.0</td>\n",
       "      <td>2567.00</td>\n",
       "      <td>2541.00</td>\n",
       "      <td>2550.00</td>\n",
       "      <td>2545.55</td>\n",
       "      <td>2548.51</td>\n",
       "      <td>183415</td>\n",
       "      <td>4.674345e+08</td>\n",
       "      <td>8002</td>\n",
       "      <td>52870</td>\n",
       "      <td>28.83</td>\n",
       "    </tr>\n",
       "    <tr>\n",
       "      <th>1</th>\n",
       "      <td>TCS</td>\n",
       "      <td>EQ</td>\n",
       "      <td>2-Jan-15</td>\n",
       "      <td>2545.55</td>\n",
       "      <td>2551.0</td>\n",
       "      <td>2590.95</td>\n",
       "      <td>2550.60</td>\n",
       "      <td>2588.40</td>\n",
       "      <td>2579.45</td>\n",
       "      <td>2568.19</td>\n",
       "      <td>462870</td>\n",
       "      <td>1.188740e+09</td>\n",
       "      <td>27585</td>\n",
       "      <td>309350</td>\n",
       "      <td>66.83</td>\n",
       "    </tr>\n",
       "    <tr>\n",
       "      <th>2</th>\n",
       "      <td>TCS</td>\n",
       "      <td>EQ</td>\n",
       "      <td>5-Jan-15</td>\n",
       "      <td>2579.45</td>\n",
       "      <td>2581.0</td>\n",
       "      <td>2599.90</td>\n",
       "      <td>2524.65</td>\n",
       "      <td>2538.10</td>\n",
       "      <td>2540.25</td>\n",
       "      <td>2563.94</td>\n",
       "      <td>877121</td>\n",
       "      <td>2.248886e+09</td>\n",
       "      <td>43234</td>\n",
       "      <td>456728</td>\n",
       "      <td>52.07</td>\n",
       "    </tr>\n",
       "    <tr>\n",
       "      <th>3</th>\n",
       "      <td>TCS</td>\n",
       "      <td>EQ</td>\n",
       "      <td>6-Jan-15</td>\n",
       "      <td>2540.25</td>\n",
       "      <td>2529.1</td>\n",
       "      <td>2529.10</td>\n",
       "      <td>2440.00</td>\n",
       "      <td>2450.05</td>\n",
       "      <td>2446.60</td>\n",
       "      <td>2466.90</td>\n",
       "      <td>1211892</td>\n",
       "      <td>2.989615e+09</td>\n",
       "      <td>84503</td>\n",
       "      <td>714306</td>\n",
       "      <td>58.94</td>\n",
       "    </tr>\n",
       "    <tr>\n",
       "      <th>4</th>\n",
       "      <td>TCS</td>\n",
       "      <td>EQ</td>\n",
       "      <td>7-Jan-15</td>\n",
       "      <td>2446.60</td>\n",
       "      <td>2470.0</td>\n",
       "      <td>2479.15</td>\n",
       "      <td>2407.45</td>\n",
       "      <td>2426.90</td>\n",
       "      <td>2417.70</td>\n",
       "      <td>2433.96</td>\n",
       "      <td>1318166</td>\n",
       "      <td>3.208362e+09</td>\n",
       "      <td>101741</td>\n",
       "      <td>886368</td>\n",
       "      <td>67.24</td>\n",
       "    </tr>\n",
       "  </tbody>\n",
       "</table>\n",
       "</div>"
      ],
      "text/plain": [
       "  Symbol Series      Date  Prev Close  Open Price  High Price  Low Price  \\\n",
       "0    TCS     EQ  1-Jan-15     2558.25      2567.0     2567.00    2541.00   \n",
       "1    TCS     EQ  2-Jan-15     2545.55      2551.0     2590.95    2550.60   \n",
       "2    TCS     EQ  5-Jan-15     2579.45      2581.0     2599.90    2524.65   \n",
       "3    TCS     EQ  6-Jan-15     2540.25      2529.1     2529.10    2440.00   \n",
       "4    TCS     EQ  7-Jan-15     2446.60      2470.0     2479.15    2407.45   \n",
       "\n",
       "   Last Price  Close Price  Average Price  Total Traded Quantity  \\\n",
       "0     2550.00      2545.55        2548.51                 183415   \n",
       "1     2588.40      2579.45        2568.19                 462870   \n",
       "2     2538.10      2540.25        2563.94                 877121   \n",
       "3     2450.05      2446.60        2466.90                1211892   \n",
       "4     2426.90      2417.70        2433.96                1318166   \n",
       "\n",
       "       Turnover  No. of Trades  Deliverable Qty  % Dly Qt to Traded Qty  \n",
       "0  4.674345e+08           8002            52870                   28.83  \n",
       "1  1.188740e+09          27585           309350                   66.83  \n",
       "2  2.248886e+09          43234           456728                   52.07  \n",
       "3  2.989615e+09          84503           714306                   58.94  \n",
       "4  3.208362e+09         101741           886368                   67.24  "
      ]
     },
     "execution_count": 109,
     "metadata": {},
     "output_type": "execute_result"
    }
   ],
   "source": [
    "logic.head()"
   ]
  },
  {
   "cell_type": "code",
   "execution_count": 111,
   "metadata": {
    "collapsed": false
   },
   "outputs": [
    {
     "name": "stdout",
     "output_type": "stream",
     "text": [
      "<class 'pandas.core.frame.DataFrame'>\n",
      "RangeIndex: 498 entries, 0 to 497\n",
      "Data columns (total 15 columns):\n",
      "Symbol                    498 non-null object\n",
      "Series                    498 non-null object\n",
      "Date                      498 non-null object\n",
      "Prev Close                498 non-null float64\n",
      "Open Price                498 non-null float64\n",
      "High Price                498 non-null float64\n",
      "Low Price                 498 non-null float64\n",
      "Last Price                498 non-null float64\n",
      "Close Price               498 non-null float64\n",
      "Average Price             498 non-null float64\n",
      "Total Traded Quantity     498 non-null int64\n",
      "Turnover                  498 non-null float64\n",
      "No. of Trades             498 non-null int64\n",
      "Deliverable Qty           498 non-null int64\n",
      "% Dly Qt to Traded Qty    498 non-null float64\n",
      "dtypes: float64(9), int64(3), object(3)\n",
      "memory usage: 58.4+ KB\n"
     ]
    }
   ],
   "source": [
    "logic.info()"
   ]
  },
  {
   "cell_type": "code",
   "execution_count": 112,
   "metadata": {
    "collapsed": false
   },
   "outputs": [
    {
     "data": {
      "text/html": [
       "<div>\n",
       "<table border=\"1\" class=\"dataframe\">\n",
       "  <thead>\n",
       "    <tr style=\"text-align: right;\">\n",
       "      <th></th>\n",
       "      <th>Prev Close</th>\n",
       "      <th>Open Price</th>\n",
       "      <th>High Price</th>\n",
       "      <th>Low Price</th>\n",
       "      <th>Last Price</th>\n",
       "      <th>Close Price</th>\n",
       "      <th>Average Price</th>\n",
       "      <th>Total Traded Quantity</th>\n",
       "      <th>Turnover</th>\n",
       "      <th>No. of Trades</th>\n",
       "      <th>Deliverable Qty</th>\n",
       "      <th>% Dly Qt to Traded Qty</th>\n",
       "    </tr>\n",
       "  </thead>\n",
       "  <tbody>\n",
       "    <tr>\n",
       "      <th>count</th>\n",
       "      <td>498.000000</td>\n",
       "      <td>498.000000</td>\n",
       "      <td>498.000000</td>\n",
       "      <td>498.000000</td>\n",
       "      <td>498.000000</td>\n",
       "      <td>498.000000</td>\n",
       "      <td>498.000000</td>\n",
       "      <td>4.980000e+02</td>\n",
       "      <td>4.980000e+02</td>\n",
       "      <td>498.000000</td>\n",
       "      <td>4.980000e+02</td>\n",
       "      <td>498.000000</td>\n",
       "    </tr>\n",
       "    <tr>\n",
       "      <th>mean</th>\n",
       "      <td>2043.094779</td>\n",
       "      <td>2047.640261</td>\n",
       "      <td>2066.149297</td>\n",
       "      <td>2023.644378</td>\n",
       "      <td>2044.375904</td>\n",
       "      <td>2044.162550</td>\n",
       "      <td>2044.595582</td>\n",
       "      <td>2.070211e+06</td>\n",
       "      <td>3.594301e+09</td>\n",
       "      <td>79453.941767</td>\n",
       "      <td>1.363844e+06</td>\n",
       "      <td>66.565281</td>\n",
       "    </tr>\n",
       "    <tr>\n",
       "      <th>std</th>\n",
       "      <td>622.985417</td>\n",
       "      <td>624.273670</td>\n",
       "      <td>628.433114</td>\n",
       "      <td>618.402416</td>\n",
       "      <td>623.091451</td>\n",
       "      <td>623.010499</td>\n",
       "      <td>622.958112</td>\n",
       "      <td>1.759975e+06</td>\n",
       "      <td>2.304106e+09</td>\n",
       "      <td>43309.473159</td>\n",
       "      <td>1.019966e+06</td>\n",
       "      <td>9.430002</td>\n",
       "    </tr>\n",
       "    <tr>\n",
       "      <th>min</th>\n",
       "      <td>937.500000</td>\n",
       "      <td>941.000000</td>\n",
       "      <td>952.100000</td>\n",
       "      <td>932.650000</td>\n",
       "      <td>935.500000</td>\n",
       "      <td>937.500000</td>\n",
       "      <td>941.180000</td>\n",
       "      <td>4.986500e+04</td>\n",
       "      <td>1.298584e+08</td>\n",
       "      <td>1.000000</td>\n",
       "      <td>0.000000e+00</td>\n",
       "      <td>0.000000</td>\n",
       "    </tr>\n",
       "    <tr>\n",
       "      <th>25%</th>\n",
       "      <td>1149.525000</td>\n",
       "      <td>1150.000000</td>\n",
       "      <td>1162.425000</td>\n",
       "      <td>1132.575000</td>\n",
       "      <td>1147.625000</td>\n",
       "      <td>1149.525000</td>\n",
       "      <td>1147.160000</td>\n",
       "      <td>1.002918e+06</td>\n",
       "      <td>2.320811e+09</td>\n",
       "      <td>53267.750000</td>\n",
       "      <td>6.762732e+05</td>\n",
       "      <td>61.490000</td>\n",
       "    </tr>\n",
       "    <tr>\n",
       "      <th>50%</th>\n",
       "      <td>2318.700000</td>\n",
       "      <td>2323.950000</td>\n",
       "      <td>2339.950000</td>\n",
       "      <td>2303.650000</td>\n",
       "      <td>2322.100000</td>\n",
       "      <td>2322.250000</td>\n",
       "      <td>2322.220000</td>\n",
       "      <td>1.586690e+06</td>\n",
       "      <td>3.145607e+09</td>\n",
       "      <td>72291.000000</td>\n",
       "      <td>1.064716e+06</td>\n",
       "      <td>68.115000</td>\n",
       "    </tr>\n",
       "    <tr>\n",
       "      <th>75%</th>\n",
       "      <td>2542.062500</td>\n",
       "      <td>2548.750000</td>\n",
       "      <td>2566.500000</td>\n",
       "      <td>2520.000000</td>\n",
       "      <td>2540.225000</td>\n",
       "      <td>2542.062500</td>\n",
       "      <td>2540.482500</td>\n",
       "      <td>2.608385e+06</td>\n",
       "      <td>4.285333e+09</td>\n",
       "      <td>94810.250000</td>\n",
       "      <td>1.770661e+06</td>\n",
       "      <td>72.422500</td>\n",
       "    </tr>\n",
       "    <tr>\n",
       "      <th>max</th>\n",
       "      <td>2776.000000</td>\n",
       "      <td>2788.000000</td>\n",
       "      <td>2812.100000</td>\n",
       "      <td>2721.900000</td>\n",
       "      <td>2785.100000</td>\n",
       "      <td>2776.000000</td>\n",
       "      <td>2763.040000</td>\n",
       "      <td>1.915506e+07</td>\n",
       "      <td>2.285439e+10</td>\n",
       "      <td>408583.000000</td>\n",
       "      <td>9.575992e+06</td>\n",
       "      <td>100.000000</td>\n",
       "    </tr>\n",
       "  </tbody>\n",
       "</table>\n",
       "</div>"
      ],
      "text/plain": [
       "        Prev Close   Open Price   High Price    Low Price   Last Price  \\\n",
       "count   498.000000   498.000000   498.000000   498.000000   498.000000   \n",
       "mean   2043.094779  2047.640261  2066.149297  2023.644378  2044.375904   \n",
       "std     622.985417   624.273670   628.433114   618.402416   623.091451   \n",
       "min     937.500000   941.000000   952.100000   932.650000   935.500000   \n",
       "25%    1149.525000  1150.000000  1162.425000  1132.575000  1147.625000   \n",
       "50%    2318.700000  2323.950000  2339.950000  2303.650000  2322.100000   \n",
       "75%    2542.062500  2548.750000  2566.500000  2520.000000  2540.225000   \n",
       "max    2776.000000  2788.000000  2812.100000  2721.900000  2785.100000   \n",
       "\n",
       "       Close Price  Average Price  Total Traded Quantity      Turnover  \\\n",
       "count   498.000000     498.000000           4.980000e+02  4.980000e+02   \n",
       "mean   2044.162550    2044.595582           2.070211e+06  3.594301e+09   \n",
       "std     623.010499     622.958112           1.759975e+06  2.304106e+09   \n",
       "min     937.500000     941.180000           4.986500e+04  1.298584e+08   \n",
       "25%    1149.525000    1147.160000           1.002918e+06  2.320811e+09   \n",
       "50%    2322.250000    2322.220000           1.586690e+06  3.145607e+09   \n",
       "75%    2542.062500    2540.482500           2.608385e+06  4.285333e+09   \n",
       "max    2776.000000    2763.040000           1.915506e+07  2.285439e+10   \n",
       "\n",
       "       No. of Trades  Deliverable Qty  % Dly Qt to Traded Qty  \n",
       "count     498.000000     4.980000e+02              498.000000  \n",
       "mean    79453.941767     1.363844e+06               66.565281  \n",
       "std     43309.473159     1.019966e+06                9.430002  \n",
       "min         1.000000     0.000000e+00                0.000000  \n",
       "25%     53267.750000     6.762732e+05               61.490000  \n",
       "50%     72291.000000     1.064716e+06               68.115000  \n",
       "75%     94810.250000     1.770661e+06               72.422500  \n",
       "max    408583.000000     9.575992e+06              100.000000  "
      ]
     },
     "execution_count": 112,
     "metadata": {},
     "output_type": "execute_result"
    }
   ],
   "source": [
    "logic.describe()"
   ]
  },
  {
   "cell_type": "code",
   "execution_count": 114,
   "metadata": {
    "collapsed": false
   },
   "outputs": [
    {
     "data": {
      "text/plain": [
       "Index(['Symbol', 'Series', 'Date', 'Prev Close', 'Open Price', 'High Price',\n",
       "       'Low Price', 'Last Price', 'Close Price', 'Average Price',\n",
       "       'Total Traded Quantity', 'Turnover', 'No. of Trades', 'Deliverable Qty',\n",
       "       '% Dly Qt to Traded Qty'],\n",
       "      dtype='object')"
      ]
     },
     "execution_count": 114,
     "metadata": {},
     "output_type": "execute_result"
    }
   ],
   "source": [
    "logic.columns # To check if there is any spaces in column section"
   ]
  },
  {
   "cell_type": "code",
   "execution_count": 116,
   "metadata": {
    "collapsed": false
   },
   "outputs": [],
   "source": [
    "x = logic[['Prev Close', 'High Price','Low Price', 'Last Price', 'Close Price', 'Average Price','Total Traded Quantity', 'Turnover', 'No. of Trades', 'Deliverable Qty']]\n",
    "y = logic['Open Price']"
   ]
  },
  {
   "cell_type": "code",
   "execution_count": 117,
   "metadata": {
    "collapsed": true
   },
   "outputs": [],
   "source": [
    "from sklearn.model_selection import train_test_split"
   ]
  },
  {
   "cell_type": "code",
   "execution_count": 118,
   "metadata": {
    "collapsed": true
   },
   "outputs": [],
   "source": [
    "X_train, X_test, y_train, y_test = train_test_split(x, y, test_size=0.4, random_state=42)"
   ]
  },
  {
   "cell_type": "code",
   "execution_count": 119,
   "metadata": {
    "collapsed": true
   },
   "outputs": [],
   "source": [
    "from sklearn.linear_model import LinearRegression"
   ]
  },
  {
   "cell_type": "code",
   "execution_count": 120,
   "metadata": {
    "collapsed": true
   },
   "outputs": [],
   "source": [
    "logic_1 = LinearRegression()"
   ]
  },
  {
   "cell_type": "code",
   "execution_count": 121,
   "metadata": {
    "collapsed": false
   },
   "outputs": [
    {
     "data": {
      "text/plain": [
       "LinearRegression(copy_X=True, fit_intercept=True, n_jobs=1, normalize=False)"
      ]
     },
     "execution_count": 121,
     "metadata": {},
     "output_type": "execute_result"
    }
   ],
   "source": [
    "logic_1.fit(X_train,y_train) "
   ]
  },
  {
   "cell_type": "code",
   "execution_count": 122,
   "metadata": {
    "collapsed": false
   },
   "outputs": [
    {
     "name": "stdout",
     "output_type": "stream",
     "text": [
      "7.84843697674\n"
     ]
    }
   ],
   "source": [
    "print(logic_1.intercept_)"
   ]
  },
  {
   "cell_type": "code",
   "execution_count": 123,
   "metadata": {
    "collapsed": false
   },
   "outputs": [
    {
     "data": {
      "text/html": [
       "<div>\n",
       "<table border=\"1\" class=\"dataframe\">\n",
       "  <thead>\n",
       "    <tr style=\"text-align: right;\">\n",
       "      <th></th>\n",
       "      <th>Coefficient_outcome</th>\n",
       "    </tr>\n",
       "  </thead>\n",
       "  <tbody>\n",
       "    <tr>\n",
       "      <th>Prev Close</th>\n",
       "      <td>3.079931e-02</td>\n",
       "    </tr>\n",
       "    <tr>\n",
       "      <th>High Price</th>\n",
       "      <td>9.422046e-01</td>\n",
       "    </tr>\n",
       "    <tr>\n",
       "      <th>Low Price</th>\n",
       "      <td>1.246518e+00</td>\n",
       "    </tr>\n",
       "    <tr>\n",
       "      <th>Last Price</th>\n",
       "      <td>-1.420326e-02</td>\n",
       "    </tr>\n",
       "    <tr>\n",
       "      <th>Close Price</th>\n",
       "      <td>-6.079236e-01</td>\n",
       "    </tr>\n",
       "    <tr>\n",
       "      <th>Average Price</th>\n",
       "      <td>-5.988478e-01</td>\n",
       "    </tr>\n",
       "    <tr>\n",
       "      <th>Total Traded Quantity</th>\n",
       "      <td>-2.519893e-06</td>\n",
       "    </tr>\n",
       "    <tr>\n",
       "      <th>Turnover</th>\n",
       "      <td>2.383056e-09</td>\n",
       "    </tr>\n",
       "    <tr>\n",
       "      <th>No. of Trades</th>\n",
       "      <td>3.574428e-05</td>\n",
       "    </tr>\n",
       "    <tr>\n",
       "      <th>Deliverable Qty</th>\n",
       "      <td>-2.189589e-06</td>\n",
       "    </tr>\n",
       "  </tbody>\n",
       "</table>\n",
       "</div>"
      ],
      "text/plain": [
       "                       Coefficient_outcome\n",
       "Prev Close                    3.079931e-02\n",
       "High Price                    9.422046e-01\n",
       "Low Price                     1.246518e+00\n",
       "Last Price                   -1.420326e-02\n",
       "Close Price                  -6.079236e-01\n",
       "Average Price                -5.988478e-01\n",
       "Total Traded Quantity        -2.519893e-06\n",
       "Turnover                      2.383056e-09\n",
       "No. of Trades                 3.574428e-05\n",
       "Deliverable Qty              -2.189589e-06"
      ]
     },
     "execution_count": 123,
     "metadata": {},
     "output_type": "execute_result"
    }
   ],
   "source": [
    "dataFrame = pd.DataFrame(logic_1.coef_,x.columns,columns=['Coefficient_outcome'])\n",
    "dataFrame"
   ]
  },
  {
   "cell_type": "code",
   "execution_count": 124,
   "metadata": {
    "collapsed": true
   },
   "outputs": [],
   "source": [
    "pred = logic_1.predict(X_test)"
   ]
  },
  {
   "cell_type": "code",
   "execution_count": 132,
   "metadata": {
    "collapsed": false
   },
   "outputs": [
    {
     "data": {
      "text/plain": [
       "<matplotlib.collections.PathCollection at 0x296cb221e10>"
      ]
     },
     "execution_count": 132,
     "metadata": {},
     "output_type": "execute_result"
    },
    {
     "data": {
      "image/png": "[encoded data removed]",
      "text/plain": [
       "<matplotlib.figure.Figure at 0x296cb83db70>"
      ]
     },
     "metadata": {},
     "output_type": "display_data"
    }
   ],
   "source": [
    "plt.scatter(y_test,pred,marker=\"x\")"
   ]
  },
  {
   "cell_type": "code",
   "execution_count": 133,
   "metadata": {
    "collapsed": true
   },
   "outputs": [],
   "source": [
    "from sklearn import metrics"
   ]
  },
  {
   "cell_type": "code",
   "execution_count": 135,
   "metadata": {
    "collapsed": false
   },
   "outputs": [
    {
     "name": "stdout",
     "output_type": "stream",
     "text": [
      "MAE: 10.2441980218\n",
      "MSE: 245.14340624\n",
      "RMSE: 15.6570561166\n"
     ]
    }
   ],
   "source": [
    "print('MAE:', metrics.mean_absolute_error(y_test, pred))\n",
    "print('MSE:', metrics.mean_squared_error(y_test, pred))\n",
    "print('RMSE:', np.sqrt(metrics.mean_squared_error(y_test, pred)))"
   ]
  },
  {
   "cell_type": "code",
   "execution_count": null,
   "metadata": {
    "collapsed": true
   },
   "outputs": [],
   "source": []
  }
 ],
 "metadata": {
  "kernelspec": {
   "display_name": "Python 3",
   "language": "python",
   "name": "python3"
  },
  "language_info": {
   "codemirror_mode": {
    "name": "ipython",
    "version": 3
   },
   "file_extension": ".py",
   "mimetype": "text/x-python",
   "name": "python",
   "nbconvert_exporter": "python",
   "pygments_lexer": "ipython3",
   "version": "3.6.0"
  }
 },
 "nbformat": 4,
 "nbformat_minor": 2
}
